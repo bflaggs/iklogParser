{
 "cells": [
  {
   "cell_type": "code",
   "execution_count": 1,
   "id": "72cdae1c",
   "metadata": {},
   "outputs": [],
   "source": [
    "import numpy as np\n",
    "import matplotlib.pyplot as plt"
   ]
  },
  {
   "cell_type": "code",
   "execution_count": 2,
   "id": "86260932",
   "metadata": {},
   "outputs": [],
   "source": [
    "filepath = \"/home/bflaggs/auger/SKALA/iklogs/LetyT3Requests_2025_08_15_wTriggerInfo.txt\""
   ]
  },
  {
   "cell_type": "code",
   "execution_count": 3,
   "id": "22ad9b94",
   "metadata": {},
   "outputs": [],
   "source": [
    "data = np.loadtxt(filepath, dtype=str, delimiter=\", \", skiprows=1)"
   ]
  },
  {
   "cell_type": "code",
   "execution_count": 4,
   "id": "2058db72",
   "metadata": {},
   "outputs": [
    {
     "data": {
      "text/plain": [
       "array(['1439251216', '935450', '0', '20', 'XbFast'], dtype='<U10')"
      ]
     },
     "execution_count": 4,
     "metadata": {},
     "output_type": "execute_result"
    }
   ],
   "source": [
    "data[0]"
   ]
  },
  {
   "cell_type": "code",
   "execution_count": 5,
   "id": "2a73afe1",
   "metadata": {},
   "outputs": [
    {
     "data": {
      "text/plain": [
       "(numpy.ndarray, numpy.ndarray, (6665, 5))"
      ]
     },
     "execution_count": 5,
     "metadata": {},
     "output_type": "execute_result"
    }
   ],
   "source": [
    "type(data), type(data[0]), data.shape"
   ]
  },
  {
   "cell_type": "code",
   "execution_count": 6,
   "id": "0e42ef48",
   "metadata": {},
   "outputs": [],
   "source": [
    "# Sort data by GPS time in seconds (column 0) and then by GPS microseconds (column 1)\n",
    "sortedData = data[np.lexsort((data[:, 1], data[:, 0]))]"
   ]
  },
  {
   "cell_type": "code",
   "execution_count": 7,
   "id": "048d98a8",
   "metadata": {},
   "outputs": [
    {
     "data": {
      "text/plain": [
       "(array([['1439251216', '935450', '0', '20', 'XbFast'],\n",
       "        ['1439251218', '96990', '-118', '30', 'Xb'],\n",
       "        ['1439251228', '316874', '0', '0', 'XbFast'],\n",
       "        ['1439251232', '778634', '-124', '30', 'Xb'],\n",
       "        ['1439251233', '641032', '-44', '20', 'Fd'],\n",
       "        ['1439251233', '641116', '-122', '30', 'Xb']], dtype='<U10'),\n",
       " array([['1439251216', '935450', '0', '20', 'XbFast'],\n",
       "        ['1439251218', '96990', '-118', '30', 'Xb'],\n",
       "        ['1439251228', '316874', '0', '0', 'XbFast'],\n",
       "        ['1439251233', '641032', '-44', '20', 'Fd'],\n",
       "        ['1439251232', '778634', '-124', '30', 'Xb'],\n",
       "        ['1439251233', '641116', '-122', '30', 'Xb']], dtype='<U10'))"
      ]
     },
     "execution_count": 7,
     "metadata": {},
     "output_type": "execute_result"
    }
   ],
   "source": [
    "# Check it sorted correctly\n",
    "sortedData[0:6], data[0:6]"
   ]
  },
  {
   "cell_type": "code",
   "execution_count": 8,
   "id": "e40f4fb1",
   "metadata": {},
   "outputs": [],
   "source": [
    "# Now sort including the offsets in microseconds (column 3)\n",
    "us_with_offsets = data[:, 1].astype(float) + data[:, 2].astype(float)\n",
    "sortedData_withOffsets = data[np.lexsort((us_with_offsets, data[:, 0]))]"
   ]
  },
  {
   "cell_type": "code",
   "execution_count": 9,
   "id": "a7726fab",
   "metadata": {},
   "outputs": [
    {
     "name": "stdout",
     "output_type": "stream",
     "text": [
      "[['1439251216' '935450' '0' '20' 'XbFast']\n",
      " ['1439251218' '96990' '-118' '30' 'Xb']\n",
      " ['1439251228' '316874' '0' '0' 'XbFast']\n",
      " ['1439251233' '641032' '-44' '20' 'Fd']\n",
      " ['1439251232' '778634' '-124' '30' 'Xb']\n",
      " ['1439251233' '641116' '-122' '30' 'Xb']]\n",
      "\n",
      "\n",
      "[['1439251216' '935450' '0' '20' 'XbFast']\n",
      " ['1439251218' '96990' '-118' '30' 'Xb']\n",
      " ['1439251228' '316874' '0' '0' 'XbFast']\n",
      " ['1439251232' '778634' '-124' '30' 'Xb']\n",
      " ['1439251233' '641032' '-44' '20' 'Fd']\n",
      " ['1439251233' '641116' '-122' '30' 'Xb']]\n",
      "\n",
      "\n",
      "[['1439251216' '935450' '0' '20' 'XbFast']\n",
      " ['1439251218' '96990' '-118' '30' 'Xb']\n",
      " ['1439251228' '316874' '0' '0' 'XbFast']\n",
      " ['1439251232' '778634' '-124' '30' 'Xb']\n",
      " ['1439251233' '641032' '-44' '20' 'Fd']\n",
      " ['1439251233' '641116' '-122' '30' 'Xb']]\n"
     ]
    }
   ],
   "source": [
    "# Check output...\n",
    "print(data[0:6])\n",
    "print(\"\\n\")\n",
    "print(sortedData[0:6])\n",
    "print(\"\\n\")\n",
    "print(sortedData_withOffsets[0:6])"
   ]
  },
  {
   "cell_type": "code",
   "execution_count": 10,
   "id": "067da830",
   "metadata": {},
   "outputs": [
    {
     "data": {
      "text/plain": [
       "(640988, 640994)"
      ]
     },
     "execution_count": 10,
     "metadata": {},
     "output_type": "execute_result"
    }
   ],
   "source": [
    "# Quick math check on final two sorted entries\n",
    "641032 - 44, 641116 - 122"
   ]
  },
  {
   "cell_type": "code",
   "execution_count": 11,
   "id": "3e2f175f",
   "metadata": {},
   "outputs": [
    {
     "name": "stdout",
     "output_type": "stream",
     "text": [
      "Number of time differences (no cuts): 6664\n",
      "Number of time differences (cut multi-triggers): 5954\n",
      "Different trigger types for all T3 requests involving Lety: ['Xb', 'XbFast', 'Fd']\n"
     ]
    }
   ],
   "source": [
    "# Calculate time differences, accounting for offsets\n",
    "d_ts_sorted_offsets = []\n",
    "triggerTypes = []\n",
    "\n",
    "for i in range(1, len(sortedData_withOffsets)):\n",
    "    t1 = float(sortedData_withOffsets[i][0]) + \\\n",
    "         (float(sortedData_withOffsets[i][1]) + float(sortedData_withOffsets[i][2]))/ 1e6\n",
    "    t0 = float(sortedData_withOffsets[i-1][0]) + \\\n",
    "         (float(sortedData_withOffsets[i-1][1]) + float(sortedData_withOffsets[i-1][2])) / 1e6\n",
    "    dt = t1 - t0\n",
    "\n",
    "    if sortedData_withOffsets[i][4] not in triggerTypes:\n",
    "        triggerTypes.append(sortedData_withOffsets[i][4])\n",
    "\n",
    "    # This should cut out multi-triggers (i.e. different triggers including Lety within 1s)\n",
    "    # One second was chosen arbitrarily, not sure what a good cut would be\n",
    "    if dt <= 1.0 and sortedData_withOffsets[i][4] != sortedData_withOffsets[i-1][4]:\n",
    "        continue\n",
    "    else:\n",
    "        # This would include same trigger-type multi-triggers (i.e. two requests of same type within 1s)\n",
    "        # These could be larger events generating multiple T3 requests in same vicinity\n",
    "        # Or two separate events in same second (less likely but possible)\n",
    "        # They would need to be within same local area to have Lety included in the request...\n",
    "        d_ts_sorted_offsets.append(dt)\n",
    "\n",
    "print(f\"Number of time differences (no cuts): {len(data) - 1}\")\n",
    "print(f\"Number of time differences (cut multi-triggers): {len(d_ts_sorted_offsets)}\")\n",
    "print(f\"Different trigger types for all T3 requests involving Lety: {triggerTypes}\")"
   ]
  },
  {
   "cell_type": "code",
   "execution_count": 15,
   "id": "738199b0",
   "metadata": {},
   "outputs": [
    {
     "data": {
      "image/png": "[encoded data removed]",
      "text/plain": [
       "<Figure size 640x480 with 1 Axes>"
      ]
     },
     "metadata": {},
     "output_type": "display_data"
    }
   ],
   "source": [
    "plt.hist(d_ts_sorted_offsets, bins=100, label=\"Lety T3 requests (cut multi-triggers)\")\n",
    "plt.xlabel(r\"$\\Delta$t / s\")\n",
    "plt.ylabel(\"Counts\")\n",
    "plt.title(r\"$\\Delta$t between successive Lety T3 requests (sorted by time)\")\n",
    "plt.legend()\n",
    "plt.show()"
   ]
  },
  {
   "cell_type": "code",
   "execution_count": 16,
   "id": "6bfaf09a",
   "metadata": {},
   "outputs": [
    {
     "data": {
      "text/plain": [
       "(array([['1439251216', '935450', '0', '20', 'XbFast'],\n",
       "        ['1439251218', '96990', '-118', '30', 'Xb'],\n",
       "        ['1439251228', '316874', '0', '0', 'XbFast'],\n",
       "        ...,\n",
       "        ['1439337603', '51307', '-44', '20', 'Fd'],\n",
       "        ['1439337607', '18039', '0', '20', 'XbFast'],\n",
       "        ['1439337607', '18164', '-124', '30', 'Xb']], dtype='<U10'),\n",
       " numpy.ndarray,\n",
       " (6665, 5),\n",
       " 6665)"
      ]
     },
     "execution_count": 16,
     "metadata": {},
     "output_type": "execute_result"
    }
   ],
   "source": [
    "sortedData_withOffsets, type(sortedData_withOffsets), sortedData_withOffsets.shape, len(sortedData_withOffsets)"
   ]
  },
  {
   "cell_type": "code",
   "execution_count": 17,
   "id": "87d22f6d",
   "metadata": {},
   "outputs": [
    {
     "data": {
      "text/plain": [
       "(array([['1439251228', '316874', '0', '0', 'XbFast'],\n",
       "        ['1439251483', '948502', '0', '0', 'XbFast'],\n",
       "        ['1439251565', '981615', '1', '0', 'XbFast'],\n",
       "        ...,\n",
       "        ['1439337282', '523803', '0', '0', 'XbFast'],\n",
       "        ['1439337345', '848210', '0', '0', 'XbFast'],\n",
       "        ['1439337468', '98192', '2', '0', 'XbFast']], dtype='<U10'),\n",
       " (648, 5),\n",
       " 648)"
      ]
     },
     "execution_count": 17,
     "metadata": {},
     "output_type": "execute_result"
    }
   ],
   "source": [
    "# Filter sorted data to include only rows where column 3 (window) is 0\n",
    "# This corresponds to requests where Lety was DIRECTLY involved in the T3 request\n",
    "letyOnly = sortedData_withOffsets[sortedData_withOffsets[:, 3].astype(int) == 0]\n",
    "\n",
    "# Should already be sorted by time but check explicitly (check size too)\n",
    "letyOnly, letyOnly.shape, len(letyOnly)\n"
   ]
  },
  {
   "cell_type": "code",
   "execution_count": 18,
   "id": "7f20af1c",
   "metadata": {},
   "outputs": [
    {
     "name": "stdout",
     "output_type": "stream",
     "text": [
      "Number of Lety only time differences (no cuts): 647\n",
      "Number of Lety only time differences (cut multi-triggers including offsets): 647\n",
      "Different trigger types involving Lety DIRECTLY in the T3 request: ['XbFast']\n"
     ]
    }
   ],
   "source": [
    "# Apply same cuts as before on time differences and multi-triggers, checking types of triggers involved\n",
    "d_ts_onlyLety_noCuts = []\n",
    "d_ts_onlyLety = []\n",
    "triggerTypes_onlyLety = []\n",
    "\n",
    "for i in range(1, len(letyOnly)):\n",
    "    t1 = float(letyOnly[i][0]) + \\\n",
    "        (float(letyOnly[i][1]) + float(letyOnly[i][2]))/ 1e6\n",
    "    t0 = float(letyOnly[i-1][0]) + \\\n",
    "        (float(letyOnly[i-1][1]) + float(letyOnly[i-1][2])) / 1e6\n",
    "    dt = t1 - t0\n",
    "\n",
    "    d_ts_onlyLety_noCuts.append(dt)\n",
    "\n",
    "    if letyOnly[i][4] not in triggerTypes_onlyLety:\n",
    "        triggerTypes_onlyLety.append(letyOnly[i][4])\n",
    "\n",
    "    # This should cut out multi-triggers (i.e. different triggers including Lety within 1s)\n",
    "    # One second was chosen arbitrarily, not sure what a good cut would be\n",
    "    if dt <= 1.0 and letyOnly[i][4] != letyOnly[i-1][4]:\n",
    "        continue\n",
    "    else:\n",
    "        d_ts_onlyLety.append(dt)\n",
    "\n",
    "print(f\"Number of Lety only time differences (no cuts): {len(d_ts_onlyLety_noCuts)}\")\n",
    "print(f\"Number of Lety only time differences (cut multi-triggers including offsets): {len(d_ts_onlyLety)}\")\n",
    "print(f\"Different trigger types involving Lety DIRECTLY in the T3 request: {triggerTypes_onlyLety}\")\n"
   ]
  },
  {
   "cell_type": "code",
   "execution_count": 21,
   "id": "ddb11637",
   "metadata": {},
   "outputs": [
    {
     "data": {
      "image/png": "[encoded data removed]",
      "text/plain": [
       "<Figure size 640x480 with 1 Axes>"
      ]
     },
     "metadata": {},
     "output_type": "display_data"
    }
   ],
   "source": [
    "# Make histogram of delta t values only taking into acocunt requests where Lety was involved directly (i.e. window = 0)\n",
    "plt.hist(d_ts_onlyLety, bins=100, label=\"Lety T3 requests w/ window=0\" + \"\\n\" + \"(direct Lety involvement)\")\n",
    "plt.xlabel(r\"$\\Delta$t / s\")\n",
    "plt.ylabel(\"Counts\")\n",
    "plt.title(r\"$\\Delta$t between successive Lety T3 requests (sorted by time)\")\n",
    "plt.legend()\n",
    "plt.show()"
   ]
  },
  {
   "cell_type": "code",
   "execution_count": 22,
   "id": "a9fa1958",
   "metadata": {},
   "outputs": [
    {
     "data": {
      "text/plain": [
       "0.558081865310669"
      ]
     },
     "execution_count": 22,
     "metadata": {},
     "output_type": "execute_result"
    }
   ],
   "source": [
    "min(d_ts_onlyLety)"
   ]
  },
  {
   "cell_type": "code",
   "execution_count": 23,
   "id": "468e8d79",
   "metadata": {},
   "outputs": [
    {
     "data": {
      "text/plain": [
       "0.007488425925925926"
      ]
     },
     "execution_count": 23,
     "metadata": {},
     "output_type": "execute_result"
    }
   ],
   "source": [
    "# Calculate rate of T3 requests where Lety was directly involved (should be ~0.01 Hz)\n",
    "len(d_ts_onlyLety) / 86400.0 # daily rate in Hz for this date (Aug. 15, 2025)"
   ]
  },
  {
   "cell_type": "code",
   "execution_count": null,
   "id": "639e39d9",
   "metadata": {},
   "outputs": [],
   "source": []
  }
 ],
 "metadata": {
  "kernelspec": {
   "display_name": "Python 3",
   "language": "python",
   "name": "python3"
  },
  "language_info": {
   "codemirror_mode": {
    "name": "ipython",
    "version": 3
   },
   "file_extension": ".py",
   "mimetype": "text/x-python",
   "name": "python",
   "nbconvert_exporter": "python",
   "pygments_lexer": "ipython3",
   "version": "3.10.12"
  }
 },
 "nbformat": 4,
 "nbformat_minor": 5
}
