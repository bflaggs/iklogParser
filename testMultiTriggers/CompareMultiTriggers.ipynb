{
 "cells": [
  {
   "cell_type": "code",
   "execution_count": 1,
   "id": "72cdae1c",
   "metadata": {},
   "outputs": [],
   "source": [
    "import numpy as np\n",
    "import matplotlib.pyplot as plt"
   ]
  },
  {
   "cell_type": "code",
   "execution_count": 2,
   "id": "86260932",
   "metadata": {},
   "outputs": [],
   "source": [
    "filepath = \"/home/bflaggs/auger/SKALA/iklogs/LetyT3Requests_2025_08_15_wTriggerInfo.txt\""
   ]
  },
  {
   "cell_type": "code",
   "execution_count": 3,
   "id": "22ad9b94",
   "metadata": {},
   "outputs": [],
   "source": [
    "data = np.loadtxt(filepath, dtype=str, delimiter=\", \", skiprows=1)"
   ]
  },
  {
   "cell_type": "code",
   "execution_count": 4,
   "id": "2058db72",
   "metadata": {},
   "outputs": [
    {
     "data": {
      "text/plain": [
       "array(['1439251216', '935450', '0', '20', 'XbFast'], dtype='<U10')"
      ]
     },
     "execution_count": 4,
     "metadata": {},
     "output_type": "execute_result"
    }
   ],
   "source": [
    "data[0]"
   ]
  },
  {
   "cell_type": "code",
   "execution_count": 6,
   "id": "421c012d",
   "metadata": {},
   "outputs": [
    {
     "name": "stdout",
     "output_type": "stream",
     "text": [
      "Lines 69 and 68 have the same timestamp and trigger: 1439251969, Xb\n",
      "Lines 88 and 87 have the same timestamp and trigger: 1439252147, Fd\n",
      "Lines 222 and 221 have the same timestamp and trigger: 1439253545, Xb\n",
      "Lines 531 and 530 have the same timestamp and trigger: 1439257902, Xb\n",
      "Lines 543 and 542 have the same timestamp and trigger: 1439258086, Xb\n",
      "Lines 705 and 704 have the same timestamp and trigger: 1439260143, Xb\n",
      "Lines 739 and 738 have the same timestamp and trigger: 1439260467, Xb\n",
      "Lines 825 and 824 have the same timestamp and trigger: 1439261663, Xb\n",
      "Lines 937 and 936 have the same timestamp and trigger: 1439263138, Fd\n",
      "Lines 972 and 971 have the same timestamp and trigger: 1439263712, Xb\n",
      "Lines 991 and 990 have the same timestamp and trigger: 1439263929, Xb\n",
      "Lines 1005 and 1004 have the same timestamp and trigger: 1439264105, Xb\n",
      "Lines 1069 and 1068 have the same timestamp and trigger: 1439264832, Xb\n",
      "Lines 1095 and 1094 have the same timestamp and trigger: 1439265081, Xb\n",
      "Lines 1176 and 1175 have the same timestamp and trigger: 1439266226, Xb\n",
      "Lines 1205 and 1204 have the same timestamp and trigger: 1439266556, Xb\n",
      "Lines 1237 and 1236 have the same timestamp and trigger: 1439266915, Xb\n",
      "Lines 1256 and 1255 have the same timestamp and trigger: 1439267111, Xb\n",
      "Lines 1260 and 1259 have the same timestamp and trigger: 1439267144, Xb\n",
      "Lines 1292 and 1291 have the same timestamp and trigger: 1439267531, Xb\n",
      "Lines 1363 and 1362 have the same timestamp and trigger: 1439268384, Xb\n",
      "Lines 1427 and 1426 have the same timestamp and trigger: 1439269161, Xb\n",
      "Lines 1461 and 1460 have the same timestamp and trigger: 1439269729, Xb\n",
      "Lines 1596 and 1595 have the same timestamp and trigger: 1439271518, Xb\n",
      "Lines 2034 and 2033 have the same timestamp and trigger: 1439277413, Xb\n",
      "Lines 2075 and 2074 have the same timestamp and trigger: 1439277955, Xb\n",
      "Lines 2117 and 2116 have the same timestamp and trigger: 1439278502, Xb\n",
      "Lines 2140 and 2139 have the same timestamp and trigger: 1439278880, Xb\n",
      "Lines 2152 and 2151 have the same timestamp and trigger: 1439279005, Xb\n",
      "Lines 2176 and 2175 have the same timestamp and trigger: 1439279253, Xb\n",
      "Lines 2199 and 2198 have the same timestamp and trigger: 1439279593, Xb\n",
      "Lines 2309 and 2308 have the same timestamp and trigger: 1439281165, Xb\n",
      "Lines 2651 and 2650 have the same timestamp and trigger: 1439285435, Xb\n",
      "Lines 2915 and 2914 have the same timestamp and trigger: 1439288863, Xb\n",
      "Lines 2978 and 2977 have the same timestamp and trigger: 1439289659, Xb\n",
      "Lines 3014 and 3013 have the same timestamp and trigger: 1439290125, Xb\n",
      "Lines 3092 and 3091 have the same timestamp and trigger: 1439291253, Xb\n",
      "Lines 3114 and 3113 have the same timestamp and trigger: 1439291558, Xb\n",
      "Lines 3227 and 3226 have the same timestamp and trigger: 1439293117, Xb\n",
      "Lines 3290 and 3289 have the same timestamp and trigger: 1439294268, Xb\n",
      "Lines 3291 and 3290 have the same timestamp and trigger: 1439294268, Xb\n",
      "Lines 3309 and 3308 have the same timestamp and trigger: 1439294541, Xb\n",
      "Lines 3372 and 3371 have the same timestamp and trigger: 1439295376, Xb\n",
      "Lines 3406 and 3405 have the same timestamp and trigger: 1439295837, Xb\n",
      "Lines 3419 and 3418 have the same timestamp and trigger: 1439296034, Xb\n",
      "Lines 3469 and 3468 have the same timestamp and trigger: 1439296619, Xb\n",
      "Lines 3570 and 3569 have the same timestamp and trigger: 1439297899, Xb\n",
      "Lines 3670 and 3669 have the same timestamp and trigger: 1439299122, Xb\n",
      "Lines 3706 and 3705 have the same timestamp and trigger: 1439299628, Xb\n",
      "Lines 3772 and 3771 have the same timestamp and trigger: 1439300535, Xb\n",
      "Lines 3819 and 3818 have the same timestamp and trigger: 1439300982, Xb\n",
      "Lines 3870 and 3869 have the same timestamp and trigger: 1439301705, Xb\n",
      "Lines 3974 and 3973 have the same timestamp and trigger: 1439303040, Xb\n",
      "Lines 4037 and 4036 have the same timestamp and trigger: 1439303765, Xb\n",
      "Lines 4055 and 4054 have the same timestamp and trigger: 1439304108, Xb\n",
      "Lines 4142 and 4141 have the same timestamp and trigger: 1439305115, Xb\n",
      "Lines 4155 and 4154 have the same timestamp and trigger: 1439305256, Xb\n",
      "Lines 4187 and 4186 have the same timestamp and trigger: 1439305588, Xb\n",
      "Lines 4196 and 4195 have the same timestamp and trigger: 1439305674, Xb\n",
      "Lines 4306 and 4305 have the same timestamp and trigger: 1439307175, Xb\n",
      "Lines 4320 and 4319 have the same timestamp and trigger: 1439307424, Xb\n",
      "Lines 4328 and 4327 have the same timestamp and trigger: 1439307488, Xb\n",
      "Lines 4365 and 4364 have the same timestamp and trigger: 1439307954, Xb\n",
      "Lines 4390 and 4389 have the same timestamp and trigger: 1439308271, Xb\n",
      "Lines 4543 and 4542 have the same timestamp and trigger: 1439310487, Xb\n",
      "Lines 4686 and 4685 have the same timestamp and trigger: 1439312198, Xb\n",
      "Lines 4700 and 4699 have the same timestamp and trigger: 1439312425, Xb\n",
      "Lines 4814 and 4813 have the same timestamp and trigger: 1439313844, Xb\n",
      "Lines 4939 and 4938 have the same timestamp and trigger: 1439315355, Xb\n",
      "Lines 4953 and 4952 have the same timestamp and trigger: 1439315420, Xb\n",
      "Lines 4958 and 4957 have the same timestamp and trigger: 1439315492, Xb\n",
      "Lines 4989 and 4988 have the same timestamp and trigger: 1439315814, Xb\n",
      "Lines 5028 and 5027 have the same timestamp and trigger: 1439316221, Xb\n",
      "Lines 5041 and 5040 have the same timestamp and trigger: 1439316474, Xb\n",
      "Lines 5088 and 5087 have the same timestamp and trigger: 1439317273, Xb\n",
      "Lines 5259 and 5258 have the same timestamp and trigger: 1439319639, Xb\n",
      "Lines 5314 and 5313 have the same timestamp and trigger: 1439320342, Xb\n",
      "Lines 5514 and 5513 have the same timestamp and trigger: 1439322958, Xb\n",
      "Lines 5520 and 5519 have the same timestamp and trigger: 1439323055, Xb\n",
      "Lines 5575 and 5574 have the same timestamp and trigger: 1439323659, Xb\n",
      "Lines 5596 and 5595 have the same timestamp and trigger: 1439323932, Xb\n",
      "Lines 5617 and 5616 have the same timestamp and trigger: 1439324175, Xb\n",
      "Lines 5667 and 5666 have the same timestamp and trigger: 1439324926, Xb\n",
      "Lines 5769 and 5768 have the same timestamp and trigger: 1439326136, Xb\n",
      "Lines 5833 and 5832 have the same timestamp and trigger: 1439326889, Xb\n",
      "Lines 5835 and 5834 have the same timestamp and trigger: 1439326930, Xb\n",
      "Lines 5867 and 5866 have the same timestamp and trigger: 1439327277, Xb\n",
      "Lines 5915 and 5914 have the same timestamp and trigger: 1439327831, Xb\n",
      "Lines 5949 and 5948 have the same timestamp and trigger: 1439328459, Xb\n",
      "Lines 5954 and 5953 have the same timestamp and trigger: 1439328534, Xb\n",
      "Lines 5966 and 5965 have the same timestamp and trigger: 1439328651, Xb\n",
      "Lines 6068 and 6067 have the same timestamp and trigger: 1439329848, Xb\n",
      "Lines 6153 and 6152 have the same timestamp and trigger: 1439331140, Xb\n",
      "Lines 6208 and 6207 have the same timestamp and trigger: 1439331797, Xb\n",
      "Lines 6222 and 6221 have the same timestamp and trigger: 1439331959, Xb\n",
      "Lines 6288 and 6287 have the same timestamp and trigger: 1439332952, Xb\n",
      "Lines 6326 and 6325 have the same timestamp and trigger: 1439333323, Xb\n",
      "Lines 6503 and 6502 have the same timestamp and trigger: 1439335612, Xb\n",
      "Lines 6534 and 6533 have the same timestamp and trigger: 1439335897, Fd\n",
      "Lines 6535 and 6534 have the same timestamp and trigger: 1439335897, Fd\n",
      "Lines 6587 and 6586 have the same timestamp and trigger: 1439336598, Fd\n",
      "Lines 6590 and 6589 have the same timestamp and trigger: 1439336615, Xb\n",
      "Lines 6624 and 6623 have the same timestamp and trigger: 1439337139, Xb\n",
      "Lines 6649 and 6648 have the same timestamp and trigger: 1439337414, Xb\n"
     ]
    }
   ],
   "source": [
    "delta_ts = []\n",
    "delta_ts_cutMulti = []\n",
    "for i in range(1, len(data)):\n",
    "    delta_ts.append(float(data[i][0]) - float(data[i-1][0]))\n",
    "\n",
    "    if delta_ts[-1] == 0.0 and data[i][4] == data[i-1][4]:\n",
    "        print(f\"Lines {i} and {i-1} have the same timestamp and trigger: {data[i][0]}, {data[i][4]}\")\n",
    "    elif delta_ts[-1] == 0.0 and data[i][4] != data[i-1][4]:\n",
    "        continue\n",
    "    else:\n",
    "        delta_ts_cutMulti.append(delta_ts[-1])"
   ]
  },
  {
   "cell_type": "code",
   "execution_count": 7,
   "id": "55cec4b9",
   "metadata": {},
   "outputs": [
    {
     "name": "stdout",
     "output_type": "stream",
     "text": [
      "['1439251969' '309257' '-123' '30' 'Xb'] ['1439251969' '214170' '-123' '30' 'Xb']\n"
     ]
    }
   ],
   "source": [
    "# So sometimes it looks like the timestamp (in seconds) and the trigger are the same\n",
    "# It could be just a very large event that triggers multiple T3 requests...\n",
    "# If that's true, then it should definitely be a T3 event (but maybe not with Lety involved)\n",
    "print(data[68], data[69])"
   ]
  },
  {
   "cell_type": "code",
   "execution_count": 8,
   "id": "ccbb3c63",
   "metadata": {},
   "outputs": [
    {
     "data": {
      "image/png": "[encoded data removed]",
      "text/plain": [
       "<Figure size 640x480 with 1 Axes>"
      ]
     },
     "metadata": {},
     "output_type": "display_data"
    }
   ],
   "source": [
    "plt.hist(delta_ts, bins=100, label=\"All Lety T3 requests\")\n",
    "plt.xlabel(r\"$\\Delta$ t / s\")\n",
    "plt.ylabel(\"Counts\")\n",
    "plt.title(r\"$\\Delta$ t between successive Lety T3 requests\")\n",
    "plt.show()"
   ]
  },
  {
   "cell_type": "code",
   "execution_count": 9,
   "id": "cd01ae7c",
   "metadata": {},
   "outputs": [
    {
     "data": {
      "text/plain": [
       "-3.0"
      ]
     },
     "execution_count": 9,
     "metadata": {},
     "output_type": "execute_result"
    }
   ],
   "source": [
    "min(delta_ts)"
   ]
  },
  {
   "cell_type": "code",
   "execution_count": 10,
   "id": "2e6cd2ff",
   "metadata": {},
   "outputs": [
    {
     "data": {
      "image/png": "[encoded data removed]",
      "text/plain": [
       "<Figure size 640x480 with 1 Axes>"
      ]
     },
     "metadata": {},
     "output_type": "display_data"
    }
   ],
   "source": [
    "plt.hist(delta_ts_cutMulti, bins=100, label=\"Lety T3 requests (cut multi-triggers and large events)\")\n",
    "plt.xlabel(r\"$\\Delta$ t / s\")\n",
    "plt.ylabel(\"Counts\")\n",
    "plt.title(r\"$\\Delta$ t between successive Lety T3 requests\")\n",
    "plt.show()"
   ]
  },
  {
   "cell_type": "code",
   "execution_count": 11,
   "id": "f60e2f1c",
   "metadata": {},
   "outputs": [],
   "source": [
    "# Don't know why there are negative time differences..."
   ]
  },
  {
   "cell_type": "code",
   "execution_count": 12,
   "id": "5e17e870",
   "metadata": {},
   "outputs": [
    {
     "data": {
      "text/plain": [
       "(6058, 6664)"
      ]
     },
     "execution_count": 12,
     "metadata": {},
     "output_type": "execute_result"
    }
   ],
   "source": [
    "len(delta_ts_cutMulti), len(delta_ts)"
   ]
  },
  {
   "cell_type": "code",
   "execution_count": 20,
   "id": "11159236",
   "metadata": {},
   "outputs": [],
   "source": [
    "neg_delta_t_inds = np.where(np.array(delta_ts) < 0.0)"
   ]
  },
  {
   "cell_type": "code",
   "execution_count": 18,
   "id": "a9be8a50",
   "metadata": {},
   "outputs": [
    {
     "name": "stdout",
     "output_type": "stream",
     "text": [
      "Lines 3 and 4 have a negative time difference: 1439251233, 1439251232 and triggers Fd, Xb\n"
     ]
    }
   ],
   "source": [
    "print(f\"Lines {3} and {3+1} have a negative time difference: {data[3][0]}, {data[3+1][0]} \"\\\n",
    "      f\"and triggers {data[3][4]}, {data[3+1][4]}\")"
   ]
  },
  {
   "cell_type": "code",
   "execution_count": 24,
   "id": "71e5f2a8",
   "metadata": {},
   "outputs": [
    {
     "name": "stdout",
     "output_type": "stream",
     "text": [
      "Lines 3 and 4 have a negative time difference: 1439251233, 1439251232 and triggers: Fd, Xb\n",
      "Lines 38 and 39 have a negative time difference: 1439251658, 1439251657 and triggers: Fd, Xb\n",
      "Lines 52 and 53 have a negative time difference: 1439251805, 1439251804 and triggers: XbFast, Xb\n",
      "Lines 79 and 80 have a negative time difference: 1439252058, 1439252056 and triggers: XbFast, Xb\n",
      "Lines 81 and 82 have a negative time difference: 1439252059, 1439252058 and triggers: XbFast, Xb\n",
      "Lines 105 and 106 have a negative time difference: 1439252353, 1439252351 and triggers: XbFast, Xb\n",
      "Lines 117 and 118 have a negative time difference: 1439252427, 1439252426 and triggers: XbFast, Fd\n",
      "Lines 133 and 134 have a negative time difference: 1439252619, 1439252618 and triggers: XbFast, Xb\n",
      "Lines 154 and 155 have a negative time difference: 1439252799, 1439252798 and triggers: XbFast, Fd\n",
      "Lines 155 and 156 have a negative time difference: 1439252798, 1439252797 and triggers: Fd, Xb\n",
      "Lines 190 and 191 have a negative time difference: 1439253095, 1439253094 and triggers: Fd, Xb\n",
      "Lines 192 and 193 have a negative time difference: 1439253129, 1439253128 and triggers: XbFast, Fd\n",
      "Lines 196 and 197 have a negative time difference: 1439253177, 1439253175 and triggers: XbFast, Xb\n",
      "Lines 201 and 202 have a negative time difference: 1439253307, 1439253305 and triggers: XbFast, Xb\n",
      "Lines 214 and 215 have a negative time difference: 1439253482, 1439253481 and triggers: XbFast, Xb\n",
      "Lines 299 and 300 have a negative time difference: 1439254639, 1439254638 and triggers: Fd, Xb\n",
      "Lines 388 and 389 have a negative time difference: 1439255856, 1439255855 and triggers: XbFast, Xb\n",
      "Lines 423 and 424 have a negative time difference: 1439256471, 1439256470 and triggers: XbFast, Xb\n",
      "Lines 523 and 524 have a negative time difference: 1439257859, 1439257858 and triggers: XbFast, Xb\n",
      "Lines 545 and 546 have a negative time difference: 1439258104, 1439258102 and triggers: XbFast, Xb\n",
      "Lines 569 and 570 have a negative time difference: 1439258396, 1439258395 and triggers: XbFast, Xb\n",
      "Lines 604 and 605 have a negative time difference: 1439258878, 1439258876 and triggers: XbFast, Xb\n",
      "Lines 616 and 617 have a negative time difference: 1439259102, 1439259101 and triggers: XbFast, Fd\n",
      "Lines 645 and 646 have a negative time difference: 1439259393, 1439259392 and triggers: Fd, Xb\n",
      "Lines 665 and 666 have a negative time difference: 1439259663, 1439259661 and triggers: XbFast, Xb\n",
      "Lines 688 and 689 have a negative time difference: 1439259942, 1439259940 and triggers: XbFast, Xb\n",
      "Lines 733 and 734 have a negative time difference: 1439260415, 1439260414 and triggers: XbFast, Xb\n",
      "Lines 774 and 775 have a negative time difference: 1439260996, 1439260995 and triggers: XbFast, Xb\n",
      "Lines 812 and 813 have a negative time difference: 1439261562, 1439261561 and triggers: XbFast, Xb\n",
      "Lines 829 and 830 have a negative time difference: 1439261710, 1439261709 and triggers: XbFast, Xb\n",
      "Lines 831 and 832 have a negative time difference: 1439261719, 1439261717 and triggers: XbFast, Xb\n",
      "Lines 838 and 839 have a negative time difference: 1439261846, 1439261844 and triggers: XbFast, Xb\n",
      "Lines 868 and 869 have a negative time difference: 1439262277, 1439262276 and triggers: XbFast, Fd\n",
      "Lines 900 and 901 have a negative time difference: 1439262703, 1439262702 and triggers: Fd, Xb\n",
      "Lines 934 and 935 have a negative time difference: 1439263126, 1439263124 and triggers: XbFast, Xb\n",
      "Lines 964 and 965 have a negative time difference: 1439263583, 1439263582 and triggers: XbFast, Xb\n",
      "Lines 1008 and 1009 have a negative time difference: 1439264203, 1439264202 and triggers: XbFast, Fd\n",
      "Lines 1034 and 1035 have a negative time difference: 1439264553, 1439264552 and triggers: XbFast, Xb\n",
      "Lines 1112 and 1113 have a negative time difference: 1439265360, 1439265359 and triggers: XbFast, Fd\n",
      "Lines 1113 and 1114 have a negative time difference: 1439265359, 1439265358 and triggers: Fd, Xb\n",
      "Lines 1132 and 1133 have a negative time difference: 1439265582, 1439265581 and triggers: XbFast, Fd\n",
      "Lines 1151 and 1152 have a negative time difference: 1439265926, 1439265924 and triggers: XbFast, Xb\n",
      "Lines 1207 and 1208 have a negative time difference: 1439266583, 1439266581 and triggers: XbFast, Xb\n",
      "Lines 1258 and 1259 have a negative time difference: 1439267146, 1439267144 and triggers: XbFast, Xb\n",
      "Lines 1289 and 1290 have a negative time difference: 1439267527, 1439267526 and triggers: XbFast, Xb\n",
      "Lines 1293 and 1294 have a negative time difference: 1439267554, 1439267552 and triggers: XbFast, Xb\n",
      "Lines 1412 and 1413 have a negative time difference: 1439268996, 1439268994 and triggers: XbFast, Xb\n",
      "Lines 1440 and 1441 have a negative time difference: 1439269350, 1439269348 and triggers: XbFast, Xb\n",
      "Lines 1456 and 1457 have a negative time difference: 1439269603, 1439269601 and triggers: XbFast, Xb\n",
      "Lines 1503 and 1504 have a negative time difference: 1439270381, 1439270379 and triggers: XbFast, Xb\n",
      "Lines 1508 and 1509 have a negative time difference: 1439270417, 1439270415 and triggers: XbFast, Xb\n",
      "Lines 1514 and 1515 have a negative time difference: 1439270515, 1439270513 and triggers: XbFast, Xb\n",
      "Lines 1536 and 1537 have a negative time difference: 1439270714, 1439270713 and triggers: XbFast, Xb\n",
      "Lines 1549 and 1550 have a negative time difference: 1439270977, 1439270975 and triggers: XbFast, Xb\n",
      "Lines 1612 and 1613 have a negative time difference: 1439271856, 1439271854 and triggers: XbFast, Xb\n",
      "Lines 1652 and 1653 have a negative time difference: 1439272414, 1439272413 and triggers: XbFast, Xb\n",
      "Lines 1703 and 1704 have a negative time difference: 1439273063, 1439273061 and triggers: XbFast, Xb\n",
      "Lines 1705 and 1706 have a negative time difference: 1439273065, 1439273063 and triggers: XbFast, Xb\n",
      "Lines 1713 and 1714 have a negative time difference: 1439273154, 1439273153 and triggers: XbFast, Xb\n",
      "Lines 1734 and 1735 have a negative time difference: 1439273520, 1439273519 and triggers: XbFast, Xb\n",
      "Lines 1754 and 1755 have a negative time difference: 1439273740, 1439273738 and triggers: XbFast, Xb\n",
      "Lines 1768 and 1769 have a negative time difference: 1439273884, 1439273882 and triggers: XbFast, Xb\n",
      "Lines 1781 and 1782 have a negative time difference: 1439274033, 1439274031 and triggers: XbFast, Xb\n",
      "Lines 1786 and 1787 have a negative time difference: 1439274091, 1439274089 and triggers: XbFast, Xb\n",
      "Lines 1809 and 1810 have a negative time difference: 1439274467, 1439274466 and triggers: XbFast, Xb\n",
      "Lines 1811 and 1812 have a negative time difference: 1439274478, 1439274476 and triggers: XbFast, Xb\n",
      "Lines 1822 and 1823 have a negative time difference: 1439274600, 1439274599 and triggers: XbFast, Xb\n",
      "Lines 1843 and 1844 have a negative time difference: 1439274851, 1439274850 and triggers: XbFast, Xb\n",
      "Lines 1850 and 1851 have a negative time difference: 1439274913, 1439274911 and triggers: XbFast, Xb\n",
      "Lines 1931 and 1932 have a negative time difference: 1439276032, 1439276031 and triggers: XbFast, Xb\n",
      "Lines 1956 and 1957 have a negative time difference: 1439276423, 1439276421 and triggers: XbFast, Xb\n",
      "Lines 2031 and 2032 have a negative time difference: 1439277407, 1439277406 and triggers: XbFast, Xb\n",
      "Lines 2053 and 2054 have a negative time difference: 1439277690, 1439277689 and triggers: XbFast, Xb\n",
      "Lines 2098 and 2099 have a negative time difference: 1439278246, 1439278244 and triggers: XbFast, Xb\n",
      "Lines 2133 and 2134 have a negative time difference: 1439278807, 1439278806 and triggers: XbFast, Xb\n",
      "Lines 2162 and 2163 have a negative time difference: 1439279116, 1439279114 and triggers: XbFast, Xb\n",
      "Lines 2165 and 2166 have a negative time difference: 1439279151, 1439279150 and triggers: XbFast, Xb\n",
      "Lines 2183 and 2184 have a negative time difference: 1439279381, 1439279378 and triggers: XbFast, Xb\n",
      "Lines 2202 and 2203 have a negative time difference: 1439279670, 1439279668 and triggers: XbFast, Xb\n",
      "Lines 2211 and 2212 have a negative time difference: 1439279963, 1439279961 and triggers: XbFast, Xb\n",
      "Lines 2251 and 2252 have a negative time difference: 1439280586, 1439280584 and triggers: XbFast, Xb\n",
      "Lines 2266 and 2267 have a negative time difference: 1439280696, 1439280695 and triggers: XbFast, Xb\n",
      "Lines 2274 and 2275 have a negative time difference: 1439280730, 1439280729 and triggers: XbFast, Xb\n",
      "Lines 2310 and 2311 have a negative time difference: 1439281176, 1439281175 and triggers: XbFast, Xb\n",
      "Lines 2376 and 2377 have a negative time difference: 1439282093, 1439282091 and triggers: XbFast, Xb\n",
      "Lines 2385 and 2386 have a negative time difference: 1439282236, 1439282234 and triggers: XbFast, Xb\n",
      "Lines 2403 and 2404 have a negative time difference: 1439282433, 1439282431 and triggers: XbFast, Xb\n",
      "Lines 2457 and 2458 have a negative time difference: 1439283139, 1439283138 and triggers: XbFast, Xb\n",
      "Lines 2495 and 2496 have a negative time difference: 1439283594, 1439283592 and triggers: XbFast, Xb\n",
      "Lines 2498 and 2499 have a negative time difference: 1439283616, 1439283614 and triggers: XbFast, Xb\n",
      "Lines 2514 and 2515 have a negative time difference: 1439283823, 1439283822 and triggers: XbFast, Xb\n",
      "Lines 2538 and 2539 have a negative time difference: 1439284172, 1439284171 and triggers: XbFast, Xb\n",
      "Lines 2551 and 2552 have a negative time difference: 1439284305, 1439284304 and triggers: XbFast, Xb\n",
      "Lines 2572 and 2573 have a negative time difference: 1439284504, 1439284503 and triggers: XbFast, Xb\n",
      "Lines 2590 and 2591 have a negative time difference: 1439284756, 1439284754 and triggers: XbFast, Xb\n",
      "Lines 2593 and 2594 have a negative time difference: 1439284765, 1439284763 and triggers: XbFast, Xb\n",
      "Lines 2611 and 2612 have a negative time difference: 1439284980, 1439284978 and triggers: XbFast, Xb\n",
      "Lines 2623 and 2624 have a negative time difference: 1439285114, 1439285113 and triggers: XbFast, Xb\n",
      "Lines 2633 and 2634 have a negative time difference: 1439285237, 1439285236 and triggers: XbFast, Xb\n",
      "Lines 2654 and 2655 have a negative time difference: 1439285477, 1439285476 and triggers: XbFast, Xb\n",
      "Lines 2685 and 2686 have a negative time difference: 1439285792, 1439285790 and triggers: XbFast, Xb\n",
      "Lines 2731 and 2732 have a negative time difference: 1439286570, 1439286568 and triggers: XbFast, Xb\n",
      "Lines 2812 and 2813 have a negative time difference: 1439287518, 1439287517 and triggers: XbFast, Xb\n",
      "Lines 2818 and 2819 have a negative time difference: 1439287546, 1439287544 and triggers: XbFast, Xb\n",
      "Lines 2824 and 2825 have a negative time difference: 1439287592, 1439287590 and triggers: XbFast, Xb\n",
      "Lines 2838 and 2839 have a negative time difference: 1439287810, 1439287809 and triggers: XbFast, Xb\n",
      "Lines 2854 and 2855 have a negative time difference: 1439288031, 1439288030 and triggers: XbFast, Xb\n",
      "Lines 2872 and 2873 have a negative time difference: 1439288196, 1439288194 and triggers: XbFast, Xb\n",
      "Lines 2890 and 2891 have a negative time difference: 1439288499, 1439288498 and triggers: XbFast, Xb\n",
      "Lines 2926 and 2927 have a negative time difference: 1439288988, 1439288987 and triggers: XbFast, Xb\n",
      "Lines 2931 and 2932 have a negative time difference: 1439289069, 1439289067 and triggers: XbFast, Xb\n",
      "Lines 2934 and 2935 have a negative time difference: 1439289079, 1439289078 and triggers: XbFast, Xb\n",
      "Lines 2938 and 2939 have a negative time difference: 1439289108, 1439289106 and triggers: XbFast, Xb\n",
      "Lines 2940 and 2941 have a negative time difference: 1439289132, 1439289131 and triggers: XbFast, Xb\n",
      "Lines 2963 and 2964 have a negative time difference: 1439289522, 1439289520 and triggers: XbFast, Xb\n",
      "Lines 2976 and 2977 have a negative time difference: 1439289661, 1439289659 and triggers: XbFast, Xb\n",
      "Lines 2998 and 2999 have a negative time difference: 1439289928, 1439289927 and triggers: XbFast, Xb\n",
      "Lines 3015 and 3016 have a negative time difference: 1439290141, 1439290139 and triggers: XbFast, Xb\n",
      "Lines 3055 and 3056 have a negative time difference: 1439290770, 1439290768 and triggers: XbFast, Xb\n",
      "Lines 3085 and 3086 have a negative time difference: 1439291217, 1439291216 and triggers: XbFast, Xb\n",
      "Lines 3089 and 3090 have a negative time difference: 1439291253, 1439291251 and triggers: XbFast, Xb\n",
      "Lines 3176 and 3177 have a negative time difference: 1439292457, 1439292456 and triggers: XbFast, Xb\n",
      "Lines 3187 and 3188 have a negative time difference: 1439292570, 1439292569 and triggers: XbFast, Xb\n",
      "Lines 3195 and 3196 have a negative time difference: 1439292743, 1439292741 and triggers: XbFast, Xb\n",
      "Lines 3224 and 3225 have a negative time difference: 1439293118, 1439293116 and triggers: XbFast, Xb\n",
      "Lines 3280 and 3281 have a negative time difference: 1439294148, 1439294146 and triggers: XbFast, Xb\n",
      "Lines 3330 and 3331 have a negative time difference: 1439294937, 1439294935 and triggers: XbFast, Xb\n",
      "Lines 3341 and 3342 have a negative time difference: 1439295029, 1439295027 and triggers: XbFast, Xb\n",
      "Lines 3392 and 3393 have a negative time difference: 1439295691, 1439295690 and triggers: XbFast, Xb\n",
      "Lines 3448 and 3449 have a negative time difference: 1439296382, 1439296381 and triggers: XbFast, Xb\n",
      "Lines 3568 and 3569 have a negative time difference: 1439297901, 1439297899 and triggers: XbFast, Xb\n",
      "Lines 3572 and 3573 have a negative time difference: 1439297917, 1439297916 and triggers: XbFast, Xb\n",
      "Lines 3582 and 3583 have a negative time difference: 1439298080, 1439298079 and triggers: XbFast, Xb\n",
      "Lines 3623 and 3624 have a negative time difference: 1439298722, 1439298721 and triggers: XbFast, Xb\n",
      "Lines 3639 and 3640 have a negative time difference: 1439298864, 1439298863 and triggers: XbFast, Xb\n",
      "Lines 3698 and 3699 have a negative time difference: 1439299584, 1439299582 and triggers: XbFast, Xb\n",
      "Lines 3838 and 3839 have a negative time difference: 1439301226, 1439301225 and triggers: XbFast, Xb\n",
      "Lines 3850 and 3851 have a negative time difference: 1439301465, 1439301463 and triggers: XbFast, Xb\n",
      "Lines 3891 and 3892 have a negative time difference: 1439301969, 1439301967 and triggers: XbFast, Xb\n",
      "Lines 3893 and 3894 have a negative time difference: 1439301970, 1439301968 and triggers: XbFast, Xb\n",
      "Lines 3907 and 3908 have a negative time difference: 1439302158, 1439302157 and triggers: XbFast, Xb\n",
      "Lines 3920 and 3921 have a negative time difference: 1439302316, 1439302314 and triggers: XbFast, Xb\n",
      "Lines 3922 and 3923 have a negative time difference: 1439302351, 1439302350 and triggers: XbFast, Xb\n",
      "Lines 3998 and 3999 have a negative time difference: 1439303334, 1439303333 and triggers: XbFast, Xb\n",
      "Lines 4035 and 4036 have a negative time difference: 1439303767, 1439303765 and triggers: XbFast, Xb\n",
      "Lines 4071 and 4072 have a negative time difference: 1439304354, 1439304352 and triggers: XbFast, Xb\n",
      "Lines 4087 and 4088 have a negative time difference: 1439304507, 1439304505 and triggers: XbFast, Xb\n",
      "Lines 4174 and 4175 have a negative time difference: 1439305500, 1439305499 and triggers: XbFast, Xb\n",
      "Lines 4181 and 4182 have a negative time difference: 1439305541, 1439305540 and triggers: XbFast, Xb\n",
      "Lines 4249 and 4250 have a negative time difference: 1439306350, 1439306349 and triggers: XbFast, Xb\n",
      "Lines 4257 and 4258 have a negative time difference: 1439306421, 1439306419 and triggers: XbFast, Xb\n",
      "Lines 4289 and 4290 have a negative time difference: 1439306923, 1439306922 and triggers: XbFast, Xb\n",
      "Lines 4303 and 4304 have a negative time difference: 1439307175, 1439307173 and triggers: XbFast, Xb\n",
      "Lines 4325 and 4326 have a negative time difference: 1439307488, 1439307487 and triggers: XbFast, Xb\n",
      "Lines 4369 and 4370 have a negative time difference: 1439307996, 1439307994 and triggers: XbFast, Xb\n",
      "Lines 4415 and 4416 have a negative time difference: 1439308736, 1439308734 and triggers: XbFast, Xb\n",
      "Lines 4434 and 4435 have a negative time difference: 1439308911, 1439308910 and triggers: XbFast, Xb\n",
      "Lines 4528 and 4529 have a negative time difference: 1439310303, 1439310301 and triggers: XbFast, Xb\n",
      "Lines 4559 and 4560 have a negative time difference: 1439310655, 1439310653 and triggers: XbFast, Xb\n",
      "Lines 4571 and 4572 have a negative time difference: 1439310822, 1439310820 and triggers: XbFast, Xb\n",
      "Lines 4617 and 4618 have a negative time difference: 1439311460, 1439311458 and triggers: XbFast, Xb\n",
      "Lines 4630 and 4631 have a negative time difference: 1439311598, 1439311597 and triggers: XbFast, Xb\n",
      "Lines 4645 and 4646 have a negative time difference: 1439311768, 1439311767 and triggers: XbFast, Xb\n",
      "Lines 4654 and 4655 have a negative time difference: 1439311939, 1439311937 and triggers: XbFast, Xb\n",
      "Lines 4664 and 4665 have a negative time difference: 1439312010, 1439312009 and triggers: XbFast, Xb\n",
      "Lines 4752 and 4753 have a negative time difference: 1439313020, 1439313019 and triggers: XbFast, Xb\n",
      "Lines 4783 and 4784 have a negative time difference: 1439313415, 1439313414 and triggers: XbFast, Xb\n",
      "Lines 4810 and 4811 have a negative time difference: 1439313833, 1439313831 and triggers: XbFast, Xb\n",
      "Lines 4841 and 4842 have a negative time difference: 1439314206, 1439314204 and triggers: XbFast, Xb\n",
      "Lines 4913 and 4914 have a negative time difference: 1439315052, 1439315051 and triggers: XbFast, Xb\n",
      "Lines 4943 and 4944 have a negative time difference: 1439315376, 1439315374 and triggers: XbFast, Xb\n",
      "Lines 4948 and 4949 have a negative time difference: 1439315405, 1439315403 and triggers: XbFast, Xb\n",
      "Lines 4961 and 4962 have a negative time difference: 1439315566, 1439315565 and triggers: XbFast, Xb\n",
      "Lines 4965 and 4966 have a negative time difference: 1439315611, 1439315610 and triggers: XbFast, Xb\n",
      "Lines 4983 and 4984 have a negative time difference: 1439315785, 1439315783 and triggers: XbFast, Xb\n",
      "Lines 4990 and 4991 have a negative time difference: 1439315824, 1439315823 and triggers: XbFast, Xb\n",
      "Lines 5006 and 5007 have a negative time difference: 1439316063, 1439316062 and triggers: XbFast, Xb\n",
      "Lines 5013 and 5014 have a negative time difference: 1439316132, 1439316130 and triggers: XbFast, Xb\n",
      "Lines 5043 and 5044 have a negative time difference: 1439316506, 1439316505 and triggers: XbFast, Xb\n",
      "Lines 5089 and 5090 have a negative time difference: 1439317320, 1439317319 and triggers: XbFast, Xb\n",
      "Lines 5094 and 5095 have a negative time difference: 1439317458, 1439317457 and triggers: XbFast, Xb\n",
      "Lines 5113 and 5114 have a negative time difference: 1439317746, 1439317745 and triggers: XbFast, Xb\n",
      "Lines 5128 and 5129 have a negative time difference: 1439317905, 1439317904 and triggers: XbFast, Xb\n",
      "Lines 5148 and 5149 have a negative time difference: 1439318155, 1439318154 and triggers: XbFast, Xb\n",
      "Lines 5161 and 5162 have a negative time difference: 1439318353, 1439318351 and triggers: XbFast, Xb\n",
      "Lines 5185 and 5186 have a negative time difference: 1439318640, 1439318638 and triggers: XbFast, Xb\n",
      "Lines 5193 and 5194 have a negative time difference: 1439318700, 1439318698 and triggers: XbFast, Xb\n",
      "Lines 5222 and 5223 have a negative time difference: 1439319187, 1439319186 and triggers: XbFast, Xb\n",
      "Lines 5246 and 5247 have a negative time difference: 1439319521, 1439319519 and triggers: XbFast, Xb\n",
      "Lines 5264 and 5265 have a negative time difference: 1439319787, 1439319786 and triggers: XbFast, Xb\n",
      "Lines 5321 and 5322 have a negative time difference: 1439320452, 1439320450 and triggers: XbFast, Xb\n",
      "Lines 5327 and 5328 have a negative time difference: 1439320471, 1439320469 and triggers: XbFast, Xb\n",
      "Lines 5456 and 5457 have a negative time difference: 1439322224, 1439322222 and triggers: XbFast, Xb\n",
      "Lines 5472 and 5473 have a negative time difference: 1439322481, 1439322479 and triggers: XbFast, Xb\n",
      "Lines 5497 and 5498 have a negative time difference: 1439322761, 1439322759 and triggers: XbFast, Xb\n",
      "Lines 5546 and 5547 have a negative time difference: 1439323312, 1439323311 and triggers: XbFast, Xb\n",
      "Lines 5557 and 5558 have a negative time difference: 1439323460, 1439323458 and triggers: XbFast, Xb\n",
      "Lines 5578 and 5579 have a negative time difference: 1439323705, 1439323704 and triggers: XbFast, Xb\n",
      "Lines 5637 and 5638 have a negative time difference: 1439324442, 1439324440 and triggers: XbFast, Xb\n",
      "Lines 5668 and 5669 have a negative time difference: 1439324929, 1439324927 and triggers: XbFast, Xb\n",
      "Lines 5731 and 5732 have a negative time difference: 1439325820, 1439325818 and triggers: XbFast, Xb\n",
      "Lines 5754 and 5755 have a negative time difference: 1439326000, 1439325998 and triggers: XbFast, Xb\n",
      "Lines 5767 and 5768 have a negative time difference: 1439326137, 1439326136 and triggers: XbFast, Xb\n",
      "Lines 5775 and 5776 have a negative time difference: 1439326180, 1439326178 and triggers: XbFast, Xb\n",
      "Lines 5803 and 5804 have a negative time difference: 1439326502, 1439326500 and triggers: XbFast, Xb\n",
      "Lines 5839 and 5840 have a negative time difference: 1439327006, 1439327005 and triggers: XbFast, Xb\n",
      "Lines 5917 and 5918 have a negative time difference: 1439327944, 1439327942 and triggers: XbFast, Xb\n",
      "Lines 5928 and 5929 have a negative time difference: 1439328099, 1439328098 and triggers: XbFast, Xb\n",
      "Lines 5930 and 5931 have a negative time difference: 1439328101, 1439328099 and triggers: XbFast, Xb\n",
      "Lines 5994 and 5995 have a negative time difference: 1439328967, 1439328965 and triggers: XbFast, Xb\n",
      "Lines 6007 and 6008 have a negative time difference: 1439329134, 1439329132 and triggers: XbFast, Xb\n",
      "Lines 6049 and 6050 have a negative time difference: 1439329709, 1439329707 and triggers: XbFast, Xb\n",
      "Lines 6056 and 6057 have a negative time difference: 1439329776, 1439329775 and triggers: XbFast, Xb\n",
      "Lines 6094 and 6095 have a negative time difference: 1439330195, 1439330193 and triggers: XbFast, Xb\n",
      "Lines 6149 and 6150 have a negative time difference: 1439331121, 1439331119 and triggers: XbFast, Xb\n",
      "Lines 6192 and 6193 have a negative time difference: 1439331677, 1439331675 and triggers: XbFast, Xb\n",
      "Lines 6203 and 6204 have a negative time difference: 1439331768, 1439331767 and triggers: XbFast, Xb\n",
      "Lines 6224 and 6225 have a negative time difference: 1439332023, 1439332021 and triggers: XbFast, Xb\n",
      "Lines 6260 and 6261 have a negative time difference: 1439332556, 1439332554 and triggers: XbFast, Xb\n",
      "Lines 6289 and 6290 have a negative time difference: 1439332981, 1439332980 and triggers: XbFast, Xb\n",
      "Lines 6291 and 6292 have a negative time difference: 1439332984, 1439332982 and triggers: XbFast, Xb\n",
      "Lines 6339 and 6340 have a negative time difference: 1439333497, 1439333495 and triggers: XbFast, Xb\n",
      "Lines 6358 and 6359 have a negative time difference: 1439333694, 1439333692 and triggers: XbFast, Xb\n",
      "Lines 6471 and 6472 have a negative time difference: 1439335240, 1439335239 and triggers: XbFast, Xb\n",
      "Lines 6511 and 6512 have a negative time difference: 1439335730, 1439335728 and triggers: XbFast, Xb\n",
      "Lines 6526 and 6527 have a negative time difference: 1439335826, 1439335825 and triggers: Fd, Xb\n",
      "Lines 6551 and 6552 have a negative time difference: 1439336141, 1439336140 and triggers: XbFast, Xb\n",
      "Lines 6566 and 6567 have a negative time difference: 1439336376, 1439336374 and triggers: XbFast, Xb\n",
      "Lines 6574 and 6575 have a negative time difference: 1439336444, 1439336442 and triggers: XbFast, Xb\n",
      "Lines 6597 and 6598 have a negative time difference: 1439336740, 1439336739 and triggers: XbFast, Xb\n"
     ]
    }
   ],
   "source": [
    "for i in range(len(neg_delta_t_inds[0])):\n",
    "    ind = neg_delta_t_inds[0][i]\n",
    "    print(f\"Lines {ind} and {ind+1} have a negative time difference: {data[ind][0]}, {data[ind+1][0]} \"\\\n",
    "          f\"and triggers: {data[ind][4]}, {data[ind+1][4]}\")"
   ]
  },
  {
   "cell_type": "code",
   "execution_count": 29,
   "id": "a91024bf",
   "metadata": {},
   "outputs": [
    {
     "data": {
      "text/plain": [
       "0.93545"
      ]
     },
     "execution_count": 29,
     "metadata": {},
     "output_type": "execute_result"
    }
   ],
   "source": [
    "float(data[0][1]) / 1e6"
   ]
  },
  {
   "cell_type": "code",
   "execution_count": 30,
   "id": "289edc6c",
   "metadata": {},
   "outputs": [
    {
     "data": {
      "text/plain": [
       "array([['1439251216', '935450', '0', '20', 'XbFast'],\n",
       "       ['1439251218', '96990', '-118', '30', 'Xb'],\n",
       "       ['1439251228', '316874', '0', '0', 'XbFast'],\n",
       "       ...,\n",
       "       ['1439337603', '51307', '-44', '20', 'Fd'],\n",
       "       ['1439337607', '18039', '0', '20', 'XbFast'],\n",
       "       ['1439337607', '18164', '-124', '30', 'Xb']], dtype='<U10')"
      ]
     },
     "execution_count": 30,
     "metadata": {},
     "output_type": "execute_result"
    }
   ],
   "source": [
    "data"
   ]
  },
  {
   "cell_type": "code",
   "execution_count": 34,
   "id": "2a73afe1",
   "metadata": {},
   "outputs": [
    {
     "data": {
      "text/plain": [
       "(numpy.ndarray, numpy.ndarray, (6665, 5))"
      ]
     },
     "execution_count": 34,
     "metadata": {},
     "output_type": "execute_result"
    }
   ],
   "source": [
    "type(data), type(data[0]), data.shape"
   ]
  },
  {
   "cell_type": "code",
   "execution_count": null,
   "id": "0e42ef48",
   "metadata": {},
   "outputs": [],
   "source": [
    "# Sort data by GPS time in seconds (column 0) and then by GPS microseconds (column 1)\n",
    "sortedData = data[np.lexsort((data[:, 1], data[:, 0]))]"
   ]
  },
  {
   "cell_type": "code",
   "execution_count": 44,
   "id": "048d98a8",
   "metadata": {},
   "outputs": [
    {
     "data": {
      "text/plain": [
       "(array([['1439251216', '935450', '0', '20', 'XbFast'],\n",
       "        ['1439251218', '96990', '-118', '30', 'Xb'],\n",
       "        ['1439251228', '316874', '0', '0', 'XbFast'],\n",
       "        ['1439251232', '778634', '-124', '30', 'Xb'],\n",
       "        ['1439251233', '641032', '-44', '20', 'Fd'],\n",
       "        ['1439251233', '641116', '-122', '30', 'Xb']], dtype='<U10'),\n",
       " array([['1439251216', '935450', '0', '20', 'XbFast'],\n",
       "        ['1439251218', '96990', '-118', '30', 'Xb'],\n",
       "        ['1439251228', '316874', '0', '0', 'XbFast'],\n",
       "        ['1439251233', '641032', '-44', '20', 'Fd'],\n",
       "        ['1439251232', '778634', '-124', '30', 'Xb'],\n",
       "        ['1439251233', '641116', '-122', '30', 'Xb']], dtype='<U10'))"
      ]
     },
     "execution_count": 44,
     "metadata": {},
     "output_type": "execute_result"
    }
   ],
   "source": [
    "# Check it sorted correctly\n",
    "sortedData[0:6], data[0:6]"
   ]
  },
  {
   "cell_type": "code",
   "execution_count": null,
   "id": "e3a2083f",
   "metadata": {},
   "outputs": [
    {
     "name": "stdout",
     "output_type": "stream",
     "text": [
      "Lines 69 and 68 have similar timestamp and same trigger: 1439251969, Xb\n",
      "Lines 88 and 87 have similar timestamp and same trigger: 1439252147, Fd\n",
      "Lines 160 and 159 have similar timestamp and same trigger: 1439252844, XbFast\n",
      "Lines 179 and 178 have similar timestamp and same trigger: 1439252998, XbFast\n",
      "Lines 215 and 214 have similar timestamp and same trigger: 1439253482, Xb\n",
      "Lines 222 and 221 have similar timestamp and same trigger: 1439253545, Xb\n",
      "Lines 287 and 286 have similar timestamp and same trigger: 1439254468, Xb\n",
      "Lines 336 and 335 have similar timestamp and same trigger: 1439255161, Xb\n",
      "Lines 381 and 380 have similar timestamp and same trigger: 1439255751, Xb\n",
      "Lines 468 and 467 have similar timestamp and same trigger: 1439257180, XbFast\n",
      "Lines 543 and 542 have similar timestamp and same trigger: 1439258086, Xb\n",
      "Lines 551 and 550 have similar timestamp and same trigger: 1439258138, XbFast\n",
      "Lines 585 and 584 have similar timestamp and same trigger: 1439258621, XbFast\n",
      "Lines 637 and 636 have similar timestamp and same trigger: 1439259312, Xb\n",
      "Lines 705 and 704 have similar timestamp and same trigger: 1439260143, Xb\n",
      "Lines 729 and 728 have similar timestamp and same trigger: 1439260406, XbFast\n",
      "Lines 731 and 730 have similar timestamp and same trigger: 1439260407, Xb\n",
      "Lines 739 and 738 have similar timestamp and same trigger: 1439260467, Xb\n",
      "Lines 825 and 824 have similar timestamp and same trigger: 1439261663, Xb\n",
      "Lines 878 and 877 have similar timestamp and same trigger: 1439262341, XbFast\n",
      "Lines 932 and 931 have similar timestamp and same trigger: 1439263083, XbFast\n",
      "Lines 937 and 936 have similar timestamp and same trigger: 1439263138, Fd\n",
      "Lines 972 and 971 have similar timestamp and same trigger: 1439263712, Xb\n",
      "Lines 989 and 988 have similar timestamp and same trigger: 1439263927, Xb\n",
      "Lines 991 and 990 have similar timestamp and same trigger: 1439263929, Xb\n",
      "Lines 1005 and 1004 have similar timestamp and same trigger: 1439264105, Xb\n",
      "Lines 1023 and 1022 have similar timestamp and same trigger: 1439264389, Xb\n",
      "Lines 1025 and 1024 have similar timestamp and same trigger: 1439264399, XbFast\n",
      "Lines 1038 and 1037 have similar timestamp and same trigger: 1439264569, Xb\n",
      "Lines 1069 and 1068 have similar timestamp and same trigger: 1439264832, Xb\n",
      "Lines 1119 and 1118 have similar timestamp and same trigger: 1439265379, Xb\n",
      "Lines 1176 and 1175 have similar timestamp and same trigger: 1439266226, Xb\n",
      "Lines 1205 and 1204 have similar timestamp and same trigger: 1439266556, Xb\n",
      "Lines 1236 and 1235 have similar timestamp and same trigger: 1439266915, Xb\n",
      "Lines 1237 and 1236 have similar timestamp and same trigger: 1439266915, Xb\n",
      "Lines 1256 and 1255 have similar timestamp and same trigger: 1439267111, Xb\n",
      "Lines 1259 and 1258 have similar timestamp and same trigger: 1439267144, Xb\n",
      "Lines 1274 and 1273 have similar timestamp and same trigger: 1439267264, Xb\n",
      "Lines 1292 and 1291 have similar timestamp and same trigger: 1439267531, Xb\n",
      "Lines 1363 and 1362 have similar timestamp and same trigger: 1439268384, Xb\n",
      "Lines 1389 and 1388 have similar timestamp and same trigger: 1439268706, Xb\n",
      "Lines 1427 and 1426 have similar timestamp and same trigger: 1439269161, Xb\n",
      "Lines 1461 and 1460 have similar timestamp and same trigger: 1439269729, Xb\n",
      "Lines 1480 and 1479 have similar timestamp and same trigger: 1439269914, Xb\n",
      "Lines 1493 and 1492 have similar timestamp and same trigger: 1439270120, Xb\n",
      "Lines 1530 and 1529 have similar timestamp and same trigger: 1439270679, XbFast\n",
      "Lines 1579 and 1578 have similar timestamp and same trigger: 1439271359, Xb\n",
      "Lines 1596 and 1595 have similar timestamp and same trigger: 1439271518, Xb\n",
      "Lines 1712 and 1711 have similar timestamp and same trigger: 1439273140, XbFast\n",
      "Lines 1919 and 1918 have similar timestamp and same trigger: 1439275842, Xb\n",
      "Lines 1968 and 1967 have similar timestamp and same trigger: 1439276577, Xb\n",
      "Lines 1997 and 1996 have similar timestamp and same trigger: 1439276920, XbFast\n",
      "Lines 2034 and 2033 have similar timestamp and same trigger: 1439277413, Xb\n",
      "Lines 2075 and 2074 have similar timestamp and same trigger: 1439277955, Xb\n",
      "Lines 2109 and 2108 have similar timestamp and same trigger: 1439278364, XbFast\n",
      "Lines 2117 and 2116 have similar timestamp and same trigger: 1439278502, Xb\n",
      "Lines 2140 and 2139 have similar timestamp and same trigger: 1439278880, Xb\n",
      "Lines 2152 and 2151 have similar timestamp and same trigger: 1439279005, Xb\n",
      "Lines 2175 and 2174 have similar timestamp and same trigger: 1439279253, Xb\n",
      "Lines 2176 and 2175 have similar timestamp and same trigger: 1439279253, Xb\n",
      "Lines 2199 and 2198 have similar timestamp and same trigger: 1439279593, Xb\n",
      "Lines 2228 and 2227 have similar timestamp and same trigger: 1439280152, Xb\n",
      "Lines 2263 and 2262 have similar timestamp and same trigger: 1439280656, XbFast\n",
      "Lines 2272 and 2271 have similar timestamp and same trigger: 1439280726, XbFast\n",
      "Lines 2309 and 2308 have similar timestamp and same trigger: 1439281165, Xb\n",
      "Lines 2314 and 2313 have similar timestamp and same trigger: 1439281221, XbFast\n",
      "Lines 2327 and 2326 have similar timestamp and same trigger: 1439281368, XbFast\n",
      "Lines 2361 and 2360 have similar timestamp and same trigger: 1439281878, XbFast\n",
      "Lines 2417 and 2416 have similar timestamp and same trigger: 1439282509, Xb\n",
      "Lines 2475 and 2474 have similar timestamp and same trigger: 1439283327, XbFast\n",
      "Lines 2535 and 2534 have similar timestamp and same trigger: 1439284109, Xb\n",
      "Lines 2565 and 2564 have similar timestamp and same trigger: 1439284441, Xb\n",
      "Lines 2568 and 2567 have similar timestamp and same trigger: 1439284476, XbFast\n",
      "Lines 2584 and 2583 have similar timestamp and same trigger: 1439284678, XbFast\n",
      "Lines 2630 and 2629 have similar timestamp and same trigger: 1439285209, Xb\n",
      "Lines 2651 and 2650 have similar timestamp and same trigger: 1439285435, Xb\n",
      "Lines 2914 and 2913 have similar timestamp and same trigger: 1439288863, Xb\n",
      "Lines 2972 and 2971 have similar timestamp and same trigger: 1439289621, Xb\n",
      "Lines 2977 and 2976 have similar timestamp and same trigger: 1439289659, Xb\n",
      "Lines 3014 and 3013 have similar timestamp and same trigger: 1439290125, Xb\n",
      "Lines 3053 and 3052 have similar timestamp and same trigger: 1439290752, Xb\n",
      "Lines 3092 and 3091 have similar timestamp and same trigger: 1439291253, Xb\n",
      "Lines 3114 and 3113 have similar timestamp and same trigger: 1439291558, Xb\n",
      "Lines 3116 and 3115 have similar timestamp and same trigger: 1439291561, Xb\n",
      "Lines 3133 and 3132 have similar timestamp and same trigger: 1439291770, Xb\n",
      "Lines 3212 and 3211 have similar timestamp and same trigger: 1439292915, Xb\n",
      "Lines 3225 and 3224 have similar timestamp and same trigger: 1439293117, Xb\n",
      "Lines 3226 and 3225 have similar timestamp and same trigger: 1439293117, Xb\n",
      "Lines 3289 and 3288 have similar timestamp and same trigger: 1439294268, Xb\n",
      "Lines 3309 and 3308 have similar timestamp and same trigger: 1439294541, Xb\n",
      "Lines 3336 and 3335 have similar timestamp and same trigger: 1439294998, XbFast\n",
      "Lines 3352 and 3351 have similar timestamp and same trigger: 1439295154, Xb\n",
      "Lines 3372 and 3371 have similar timestamp and same trigger: 1439295376, Xb\n",
      "Lines 3406 and 3405 have similar timestamp and same trigger: 1439295837, Xb\n",
      "Lines 3442 and 3441 have similar timestamp and same trigger: 1439296297, XbFast\n",
      "Lines 3469 and 3468 have similar timestamp and same trigger: 1439296619, Xb\n",
      "Lines 3569 and 3568 have similar timestamp and same trigger: 1439297899, Xb\n",
      "Lines 3669 and 3668 have similar timestamp and same trigger: 1439299122, Xb\n",
      "Lines 3702 and 3701 have similar timestamp and same trigger: 1439299610, XbFast\n",
      "Lines 3706 and 3705 have similar timestamp and same trigger: 1439299628, Xb\n",
      "Lines 3739 and 3738 have similar timestamp and same trigger: 1439300118, XbFast\n",
      "Lines 3772 and 3771 have similar timestamp and same trigger: 1439300535, Xb\n",
      "Lines 3782 and 3781 have similar timestamp and same trigger: 1439300677, Xb\n",
      "Lines 3788 and 3787 have similar timestamp and same trigger: 1439300736, XbFast\n",
      "Lines 3792 and 3791 have similar timestamp and same trigger: 1439300784, Xb\n",
      "Lines 3819 and 3818 have similar timestamp and same trigger: 1439300982, Xb\n",
      "Lines 3822 and 3821 have similar timestamp and same trigger: 1439301008, XbFast\n",
      "Lines 3823 and 3822 have similar timestamp and same trigger: 1439301009, XbFast\n",
      "Lines 3857 and 3856 have similar timestamp and same trigger: 1439301528, XbFast\n",
      "Lines 3870 and 3869 have similar timestamp and same trigger: 1439301705, Xb\n",
      "Lines 3882 and 3881 have similar timestamp and same trigger: 1439301843, XbFast\n",
      "Lines 3894 and 3893 have similar timestamp and same trigger: 1439301970, XbFast\n",
      "Lines 3903 and 3902 have similar timestamp and same trigger: 1439302125, XbFast\n",
      "Lines 3936 and 3935 have similar timestamp and same trigger: 1439302517, Xb\n",
      "Lines 3947 and 3946 have similar timestamp and same trigger: 1439302660, Xb\n",
      "Lines 3989 and 3988 have similar timestamp and same trigger: 1439303223, XbFast\n",
      "Lines 4035 and 4034 have similar timestamp and same trigger: 1439303765, Xb\n",
      "Lines 4118 and 4117 have similar timestamp and same trigger: 1439304834, Xb\n",
      "Lines 4142 and 4141 have similar timestamp and same trigger: 1439305115, Xb\n",
      "Lines 4155 and 4154 have similar timestamp and same trigger: 1439305256, Xb\n",
      "Lines 4166 and 4165 have similar timestamp and same trigger: 1439305396, Xb\n",
      "Lines 4187 and 4186 have similar timestamp and same trigger: 1439305588, Xb\n",
      "Lines 4196 and 4195 have similar timestamp and same trigger: 1439305674, Xb\n",
      "Lines 4214 and 4213 have similar timestamp and same trigger: 1439305901, Xb\n",
      "Lines 4242 and 4241 have similar timestamp and same trigger: 1439306228, Xb\n",
      "Lines 4283 and 4282 have similar timestamp and same trigger: 1439306861, Xb\n",
      "Lines 4312 and 4311 have similar timestamp and same trigger: 1439307242, Xb\n",
      "Lines 4320 and 4319 have similar timestamp and same trigger: 1439307424, Xb\n",
      "Lines 4328 and 4327 have similar timestamp and same trigger: 1439307488, Xb\n",
      "Lines 4365 and 4364 have similar timestamp and same trigger: 1439307954, Xb\n",
      "Lines 4390 and 4389 have similar timestamp and same trigger: 1439308271, Xb\n",
      "Lines 4491 and 4490 have similar timestamp and same trigger: 1439309696, Xb\n",
      "Lines 4540 and 4539 have similar timestamp and same trigger: 1439310482, XbFast\n",
      "Lines 4543 and 4542 have similar timestamp and same trigger: 1439310487, Xb\n",
      "Lines 4585 and 4584 have similar timestamp and same trigger: 1439310995, Xb\n",
      "Lines 4595 and 4594 have similar timestamp and same trigger: 1439311148, XbFast\n",
      "Lines 4641 and 4640 have similar timestamp and same trigger: 1439311743, XbFast\n",
      "Lines 4658 and 4657 have similar timestamp and same trigger: 1439311951, XbFast\n",
      "Lines 4686 and 4685 have similar timestamp and same trigger: 1439312198, Xb\n",
      "Lines 4700 and 4699 have similar timestamp and same trigger: 1439312425, Xb\n",
      "Lines 4748 and 4747 have similar timestamp and same trigger: 1439312994, XbFast\n",
      "Lines 4793 and 4792 have similar timestamp and same trigger: 1439313521, Xb\n",
      "Lines 4809 and 4808 have similar timestamp and same trigger: 1439313826, Xb\n",
      "Lines 4814 and 4813 have similar timestamp and same trigger: 1439313844, Xb\n",
      "Lines 4845 and 4844 have similar timestamp and same trigger: 1439314210, Xb\n",
      "Lines 4860 and 4859 have similar timestamp and same trigger: 1439314412, Xb\n",
      "Lines 4867 and 4866 have similar timestamp and same trigger: 1439314514, Xb\n",
      "Lines 4939 and 4938 have similar timestamp and same trigger: 1439315355, Xb\n",
      "Lines 4953 and 4952 have similar timestamp and same trigger: 1439315420, Xb\n",
      "Lines 4958 and 4957 have similar timestamp and same trigger: 1439315492, Xb\n",
      "Lines 4989 and 4988 have similar timestamp and same trigger: 1439315814, Xb\n",
      "Lines 5012 and 5011 have similar timestamp and same trigger: 1439316130, XbFast\n",
      "Lines 5017 and 5016 have similar timestamp and same trigger: 1439316139, Xb\n",
      "Lines 5028 and 5027 have similar timestamp and same trigger: 1439316221, Xb\n",
      "Lines 5041 and 5040 have similar timestamp and same trigger: 1439316474, Xb\n",
      "Lines 5088 and 5087 have similar timestamp and same trigger: 1439317273, Xb\n",
      "Lines 5100 and 5099 have similar timestamp and same trigger: 1439317610, Xb\n",
      "Lines 5229 and 5228 have similar timestamp and same trigger: 1439319231, Xb\n",
      "Lines 5259 and 5258 have similar timestamp and same trigger: 1439319639, Xb\n",
      "Lines 5300 and 5299 have similar timestamp and same trigger: 1439320224, Xb\n",
      "Lines 5314 and 5313 have similar timestamp and same trigger: 1439320342, Xb\n",
      "Lines 5319 and 5318 have similar timestamp and same trigger: 1439320387, XbFast\n",
      "Lines 5339 and 5338 have similar timestamp and same trigger: 1439320637, Xb\n",
      "Lines 5478 and 5477 have similar timestamp and same trigger: 1439322511, Xb\n",
      "Lines 5514 and 5513 have similar timestamp and same trigger: 1439322958, Xb\n",
      "Lines 5519 and 5518 have similar timestamp and same trigger: 1439323055, Xb\n",
      "Lines 5520 and 5519 have similar timestamp and same trigger: 1439323055, Xb\n",
      "Lines 5522 and 5521 have similar timestamp and same trigger: 1439323087, XbFast\n",
      "Lines 5523 and 5522 have similar timestamp and same trigger: 1439323088, XbFast\n",
      "Lines 5575 and 5574 have similar timestamp and same trigger: 1439323659, Xb\n",
      "Lines 5592 and 5591 have similar timestamp and same trigger: 1439323882, Xb\n",
      "Lines 5596 and 5595 have similar timestamp and same trigger: 1439323932, Xb\n",
      "Lines 5617 and 5616 have similar timestamp and same trigger: 1439324175, Xb\n",
      "Lines 5624 and 5623 have similar timestamp and same trigger: 1439324257, XbFast\n",
      "Lines 5667 and 5666 have similar timestamp and same trigger: 1439324926, Xb\n",
      "Lines 5768 and 5767 have similar timestamp and same trigger: 1439326136, Xb\n",
      "Lines 5804 and 5803 have similar timestamp and same trigger: 1439326501, Xb\n",
      "Lines 5833 and 5832 have similar timestamp and same trigger: 1439326889, Xb\n",
      "Lines 5835 and 5834 have similar timestamp and same trigger: 1439326930, Xb\n",
      "Lines 5867 and 5866 have similar timestamp and same trigger: 1439327277, Xb\n",
      "Lines 5915 and 5914 have similar timestamp and same trigger: 1439327831, Xb\n",
      "Lines 5949 and 5948 have similar timestamp and same trigger: 1439328459, Xb\n",
      "Lines 5954 and 5953 have similar timestamp and same trigger: 1439328534, Xb\n",
      "Lines 5966 and 5965 have similar timestamp and same trigger: 1439328651, Xb\n",
      "Lines 6066 and 6065 have similar timestamp and same trigger: 1439329848, XbFast\n",
      "Lines 6068 and 6067 have similar timestamp and same trigger: 1439329848, Xb\n",
      "Lines 6103 and 6102 have similar timestamp and same trigger: 1439330262, Xb\n",
      "Lines 6106 and 6105 have similar timestamp and same trigger: 1439330313, XbFast\n",
      "Lines 6153 and 6152 have similar timestamp and same trigger: 1439331140, Xb\n",
      "Lines 6208 and 6207 have similar timestamp and same trigger: 1439331797, Xb\n",
      "Lines 6260 and 6259 have similar timestamp and same trigger: 1439332554, Xb\n",
      "Lines 6288 and 6287 have similar timestamp and same trigger: 1439332952, Xb\n",
      "Lines 6326 and 6325 have similar timestamp and same trigger: 1439333323, Xb\n",
      "Lines 6338 and 6337 have similar timestamp and same trigger: 1439333490, Xb\n",
      "Lines 6426 and 6425 have similar timestamp and same trigger: 1439334509, Xb\n",
      "Lines 6445 and 6444 have similar timestamp and same trigger: 1439334915, XbFast\n",
      "Lines 6503 and 6502 have similar timestamp and same trigger: 1439335612, Xb\n",
      "Lines 6534 and 6533 have similar timestamp and same trigger: 1439335897, Fd\n",
      "Lines 6535 and 6534 have similar timestamp and same trigger: 1439335897, Fd\n",
      "Lines 6587 and 6586 have similar timestamp and same trigger: 1439336598, Fd\n",
      "Lines 6590 and 6589 have similar timestamp and same trigger: 1439336615, Xb\n",
      "Lines 6624 and 6623 have similar timestamp and same trigger: 1439337139, Xb\n",
      "Lines 6649 and 6648 have similar timestamp and same trigger: 1439337414, Xb\n"
     ]
    }
   ],
   "source": [
    "# Now recalculate successive time differences, correctly this time by accounting for microseconds\n",
    "delta_ts_sorted = []\n",
    "delta_ts_cutMulti_sorted = []\n",
    "for i in range(1, len(sortedData)):\n",
    "    t1 = float(sortedData[i][0]) + float(sortedData[i][1]) / 1e6\n",
    "    t0 = float(sortedData[i-1][0]) + float(sortedData[i-1][1]) / 1e6\n",
    "    delta_ts_sorted.append(t1 - t0)\n",
    "\n",
    "    # One second was chosen arbitrarily, not sure what a good cut would be\n",
    "    if delta_ts_sorted[-1] <= 1.0 and sortedData[i][4] == sortedData[i-1][4]:\n",
    "        print(f\"Lines {i} and {i-1} have similar timestamp and same trigger: {sortedData[i][0]}, {sortedData[i][4]}\")\n",
    "    elif delta_ts_sorted[-1] <= 1.0 and sortedData[i][4] != sortedData[i-1][4]:\n",
    "        continue\n",
    "    else:\n",
    "        delta_ts_cutMulti_sorted.append(delta_ts_sorted[-1])"
   ]
  },
  {
   "cell_type": "code",
   "execution_count": 67,
   "id": "ada157b6",
   "metadata": {},
   "outputs": [
    {
     "data": {
      "image/png": "[encoded data removed]",
      "text/plain": [
       "<Figure size 640x480 with 1 Axes>"
      ]
     },
     "metadata": {},
     "output_type": "display_data"
    }
   ],
   "source": [
    "plt.hist(delta_ts_sorted, bins=100, label=\"All Lety T3 requests\")\n",
    "plt.xlabel(r\"$\\Delta$ t / s\")\n",
    "plt.ylabel(\"Counts\")\n",
    "plt.title(r\"$\\Delta$ t between successive Lety T3 requests (sorted by time)\")\n",
    "plt.show()"
   ]
  },
  {
   "cell_type": "code",
   "execution_count": 68,
   "id": "0b98e970",
   "metadata": {},
   "outputs": [
    {
     "data": {
      "image/png": "[encoded data removed]",
      "text/plain": [
       "<Figure size 640x480 with 1 Axes>"
      ]
     },
     "metadata": {},
     "output_type": "display_data"
    }
   ],
   "source": [
    "plt.hist(delta_ts_cutMulti_sorted, bins=120, label=\"Lety T3 requests (cut multi-triggers and large events)\")\n",
    "plt.xlabel(r\"$\\Delta$ t / s\")\n",
    "plt.ylabel(\"Counts\")\n",
    "plt.title(r\"$\\Delta$ t between successive Lety T3 requests (sorted by time)\")\n",
    "plt.show()"
   ]
  },
  {
   "cell_type": "code",
   "execution_count": 69,
   "id": "9c6a073e",
   "metadata": {},
   "outputs": [
    {
     "data": {
      "text/plain": [
       "(6664, 5751)"
      ]
     },
     "execution_count": 69,
     "metadata": {},
     "output_type": "execute_result"
    }
   ],
   "source": [
    "len(delta_ts_sorted), len(delta_ts_cutMulti_sorted)"
   ]
  },
  {
   "cell_type": "code",
   "execution_count": 70,
   "id": "eec7fd6e",
   "metadata": {},
   "outputs": [
    {
     "data": {
      "text/plain": [
       "1.001399040222168"
      ]
     },
     "execution_count": 70,
     "metadata": {},
     "output_type": "execute_result"
    }
   ],
   "source": [
    "min(delta_ts_cutMulti_sorted)"
   ]
  },
  {
   "cell_type": "code",
   "execution_count": null,
   "id": "d54561aa",
   "metadata": {},
   "outputs": [],
   "source": []
  }
 ],
 "metadata": {
  "kernelspec": {
   "display_name": "Python 3",
   "language": "python",
   "name": "python3"
  },
  "language_info": {
   "codemirror_mode": {
    "name": "ipython",
    "version": 3
   },
   "file_extension": ".py",
   "mimetype": "text/x-python",
   "name": "python",
   "nbconvert_exporter": "python",
   "pygments_lexer": "ipython3",
   "version": "3.10.12"
  }
 },
 "nbformat": 4,
 "nbformat_minor": 5
}
