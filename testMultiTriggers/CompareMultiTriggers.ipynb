{
 "cells": [
  {
   "cell_type": "code",
   "execution_count": 1,
   "id": "72cdae1c",
   "metadata": {},
   "outputs": [],
   "source": [
    "import numpy as np\n",
    "import matplotlib.pyplot as plt"
   ]
  },
  {
   "cell_type": "code",
   "execution_count": 2,
   "id": "86260932",
   "metadata": {},
   "outputs": [],
   "source": [
    "filepath = \"/home/bflaggs/auger/SKALA/iklogs/LetyT3Requests_2025_08_15_wTriggerInfo.txt\""
   ]
  },
  {
   "cell_type": "code",
   "execution_count": 6,
   "id": "22ad9b94",
   "metadata": {},
   "outputs": [],
   "source": [
    "data = np.loadtxt(filepath, dtype=str, delimiter=\", \", skiprows=1)"
   ]
  },
  {
   "cell_type": "code",
   "execution_count": 7,
   "id": "2058db72",
   "metadata": {},
   "outputs": [
    {
     "data": {
      "text/plain": [
       "array(['1439251216', '935450', '0', '20', 'XbFast'], dtype='<U10')"
      ]
     },
     "execution_count": 7,
     "metadata": {},
     "output_type": "execute_result"
    }
   ],
   "source": [
    "data[0]"
   ]
  },
  {
   "cell_type": "code",
   "execution_count": null,
   "id": "421c012d",
   "metadata": {},
   "outputs": [
    {
     "name": "stdout",
     "output_type": "stream",
     "text": [
      "Lines 69 and 68 have the same timestamp and trigger: 1439251969, Xb\n",
      "Lines 88 and 87 have the same timestamp and trigger: 1439252147, Fd\n",
      "Lines 222 and 221 have the same timestamp and trigger: 1439253545, Xb\n",
      "Lines 531 and 530 have the same timestamp and trigger: 1439257902, Xb\n",
      "Lines 543 and 542 have the same timestamp and trigger: 1439258086, Xb\n",
      "Lines 705 and 704 have the same timestamp and trigger: 1439260143, Xb\n",
      "Lines 739 and 738 have the same timestamp and trigger: 1439260467, Xb\n",
      "Lines 825 and 824 have the same timestamp and trigger: 1439261663, Xb\n",
      "Lines 937 and 936 have the same timestamp and trigger: 1439263138, Fd\n",
      "Lines 972 and 971 have the same timestamp and trigger: 1439263712, Xb\n",
      "Lines 991 and 990 have the same timestamp and trigger: 1439263929, Xb\n",
      "Lines 1005 and 1004 have the same timestamp and trigger: 1439264105, Xb\n",
      "Lines 1069 and 1068 have the same timestamp and trigger: 1439264832, Xb\n",
      "Lines 1095 and 1094 have the same timestamp and trigger: 1439265081, Xb\n",
      "Lines 1176 and 1175 have the same timestamp and trigger: 1439266226, Xb\n",
      "Lines 1205 and 1204 have the same timestamp and trigger: 1439266556, Xb\n",
      "Lines 1237 and 1236 have the same timestamp and trigger: 1439266915, Xb\n",
      "Lines 1256 and 1255 have the same timestamp and trigger: 1439267111, Xb\n",
      "Lines 1260 and 1259 have the same timestamp and trigger: 1439267144, Xb\n",
      "Lines 1292 and 1291 have the same timestamp and trigger: 1439267531, Xb\n",
      "Lines 1363 and 1362 have the same timestamp and trigger: 1439268384, Xb\n",
      "Lines 1427 and 1426 have the same timestamp and trigger: 1439269161, Xb\n",
      "Lines 1461 and 1460 have the same timestamp and trigger: 1439269729, Xb\n",
      "Lines 1596 and 1595 have the same timestamp and trigger: 1439271518, Xb\n",
      "Lines 2034 and 2033 have the same timestamp and trigger: 1439277413, Xb\n",
      "Lines 2075 and 2074 have the same timestamp and trigger: 1439277955, Xb\n",
      "Lines 2117 and 2116 have the same timestamp and trigger: 1439278502, Xb\n",
      "Lines 2140 and 2139 have the same timestamp and trigger: 1439278880, Xb\n",
      "Lines 2152 and 2151 have the same timestamp and trigger: 1439279005, Xb\n",
      "Lines 2176 and 2175 have the same timestamp and trigger: 1439279253, Xb\n",
      "Lines 2199 and 2198 have the same timestamp and trigger: 1439279593, Xb\n",
      "Lines 2309 and 2308 have the same timestamp and trigger: 1439281165, Xb\n",
      "Lines 2651 and 2650 have the same timestamp and trigger: 1439285435, Xb\n",
      "Lines 2915 and 2914 have the same timestamp and trigger: 1439288863, Xb\n",
      "Lines 2978 and 2977 have the same timestamp and trigger: 1439289659, Xb\n",
      "Lines 3014 and 3013 have the same timestamp and trigger: 1439290125, Xb\n",
      "Lines 3092 and 3091 have the same timestamp and trigger: 1439291253, Xb\n",
      "Lines 3114 and 3113 have the same timestamp and trigger: 1439291558, Xb\n",
      "Lines 3227 and 3226 have the same timestamp and trigger: 1439293117, Xb\n",
      "Lines 3290 and 3289 have the same timestamp and trigger: 1439294268, Xb\n",
      "Lines 3291 and 3290 have the same timestamp and trigger: 1439294268, Xb\n",
      "Lines 3309 and 3308 have the same timestamp and trigger: 1439294541, Xb\n",
      "Lines 3372 and 3371 have the same timestamp and trigger: 1439295376, Xb\n",
      "Lines 3406 and 3405 have the same timestamp and trigger: 1439295837, Xb\n",
      "Lines 3419 and 3418 have the same timestamp and trigger: 1439296034, Xb\n",
      "Lines 3469 and 3468 have the same timestamp and trigger: 1439296619, Xb\n",
      "Lines 3570 and 3569 have the same timestamp and trigger: 1439297899, Xb\n",
      "Lines 3670 and 3669 have the same timestamp and trigger: 1439299122, Xb\n",
      "Lines 3706 and 3705 have the same timestamp and trigger: 1439299628, Xb\n",
      "Lines 3772 and 3771 have the same timestamp and trigger: 1439300535, Xb\n",
      "Lines 3819 and 3818 have the same timestamp and trigger: 1439300982, Xb\n",
      "Lines 3870 and 3869 have the same timestamp and trigger: 1439301705, Xb\n",
      "Lines 3974 and 3973 have the same timestamp and trigger: 1439303040, Xb\n",
      "Lines 4037 and 4036 have the same timestamp and trigger: 1439303765, Xb\n",
      "Lines 4055 and 4054 have the same timestamp and trigger: 1439304108, Xb\n",
      "Lines 4142 and 4141 have the same timestamp and trigger: 1439305115, Xb\n",
      "Lines 4155 and 4154 have the same timestamp and trigger: 1439305256, Xb\n",
      "Lines 4187 and 4186 have the same timestamp and trigger: 1439305588, Xb\n",
      "Lines 4196 and 4195 have the same timestamp and trigger: 1439305674, Xb\n",
      "Lines 4306 and 4305 have the same timestamp and trigger: 1439307175, Xb\n",
      "Lines 4320 and 4319 have the same timestamp and trigger: 1439307424, Xb\n",
      "Lines 4328 and 4327 have the same timestamp and trigger: 1439307488, Xb\n",
      "Lines 4365 and 4364 have the same timestamp and trigger: 1439307954, Xb\n",
      "Lines 4390 and 4389 have the same timestamp and trigger: 1439308271, Xb\n",
      "Lines 4543 and 4542 have the same timestamp and trigger: 1439310487, Xb\n",
      "Lines 4686 and 4685 have the same timestamp and trigger: 1439312198, Xb\n",
      "Lines 4700 and 4699 have the same timestamp and trigger: 1439312425, Xb\n",
      "Lines 4814 and 4813 have the same timestamp and trigger: 1439313844, Xb\n",
      "Lines 4939 and 4938 have the same timestamp and trigger: 1439315355, Xb\n",
      "Lines 4953 and 4952 have the same timestamp and trigger: 1439315420, Xb\n",
      "Lines 4958 and 4957 have the same timestamp and trigger: 1439315492, Xb\n",
      "Lines 4989 and 4988 have the same timestamp and trigger: 1439315814, Xb\n",
      "Lines 5028 and 5027 have the same timestamp and trigger: 1439316221, Xb\n",
      "Lines 5041 and 5040 have the same timestamp and trigger: 1439316474, Xb\n",
      "Lines 5088 and 5087 have the same timestamp and trigger: 1439317273, Xb\n",
      "Lines 5259 and 5258 have the same timestamp and trigger: 1439319639, Xb\n",
      "Lines 5314 and 5313 have the same timestamp and trigger: 1439320342, Xb\n",
      "Lines 5514 and 5513 have the same timestamp and trigger: 1439322958, Xb\n",
      "Lines 5520 and 5519 have the same timestamp and trigger: 1439323055, Xb\n",
      "Lines 5575 and 5574 have the same timestamp and trigger: 1439323659, Xb\n",
      "Lines 5596 and 5595 have the same timestamp and trigger: 1439323932, Xb\n",
      "Lines 5617 and 5616 have the same timestamp and trigger: 1439324175, Xb\n",
      "Lines 5667 and 5666 have the same timestamp and trigger: 1439324926, Xb\n",
      "Lines 5769 and 5768 have the same timestamp and trigger: 1439326136, Xb\n",
      "Lines 5833 and 5832 have the same timestamp and trigger: 1439326889, Xb\n",
      "Lines 5835 and 5834 have the same timestamp and trigger: 1439326930, Xb\n",
      "Lines 5867 and 5866 have the same timestamp and trigger: 1439327277, Xb\n",
      "Lines 5915 and 5914 have the same timestamp and trigger: 1439327831, Xb\n",
      "Lines 5949 and 5948 have the same timestamp and trigger: 1439328459, Xb\n",
      "Lines 5954 and 5953 have the same timestamp and trigger: 1439328534, Xb\n",
      "Lines 5966 and 5965 have the same timestamp and trigger: 1439328651, Xb\n",
      "Lines 6068 and 6067 have the same timestamp and trigger: 1439329848, Xb\n",
      "Lines 6153 and 6152 have the same timestamp and trigger: 1439331140, Xb\n",
      "Lines 6208 and 6207 have the same timestamp and trigger: 1439331797, Xb\n",
      "Lines 6222 and 6221 have the same timestamp and trigger: 1439331959, Xb\n",
      "Lines 6288 and 6287 have the same timestamp and trigger: 1439332952, Xb\n",
      "Lines 6326 and 6325 have the same timestamp and trigger: 1439333323, Xb\n",
      "Lines 6503 and 6502 have the same timestamp and trigger: 1439335612, Xb\n",
      "Lines 6534 and 6533 have the same timestamp and trigger: 1439335897, Fd\n",
      "Lines 6535 and 6534 have the same timestamp and trigger: 1439335897, Fd\n",
      "Lines 6587 and 6586 have the same timestamp and trigger: 1439336598, Fd\n",
      "Lines 6590 and 6589 have the same timestamp and trigger: 1439336615, Xb\n",
      "Lines 6624 and 6623 have the same timestamp and trigger: 1439337139, Xb\n",
      "Lines 6649 and 6648 have the same timestamp and trigger: 1439337414, Xb\n"
     ]
    }
   ],
   "source": [
    "delta_ts = []\n",
    "delta_ts_cutMulti = []\n",
    "for i in range(1, len(file)):\n",
    "    delta_ts.append(float(data[i][0]) - float(data[i-1][0]))\n",
    "\n",
    "    if delta_ts[-1] == 0.0 and data[i][4] == data[i-1][4]:\n",
    "        print(f\"Lines {i} and {i-1} have the same timestamp and trigger: {data[i][0]}, {data[i][4]}\")\n",
    "    elif delta_ts[-1] == 0.0 and data[i][4] != data[i-1][4]:\n",
    "        continue\n",
    "    else:\n",
    "        delta_ts_cutMulti.append(delta_ts[-1])"
   ]
  },
  {
   "cell_type": "code",
   "execution_count": 14,
   "id": "55cec4b9",
   "metadata": {},
   "outputs": [
    {
     "name": "stdout",
     "output_type": "stream",
     "text": [
      "['1439251969' '309257' '-123' '30' 'Xb'] ['1439251969' '214170' '-123' '30' 'Xb']\n"
     ]
    }
   ],
   "source": [
    "# So sometimes it looks like the timestamp (in seconds) and the trigger are the same\n",
    "# It could be just a very large event that triggers multiple T3 requests...\n",
    "# If that's true, then it should definitely be a T3 event (but maybe not with Lety involved)\n",
    "print(data[68], data[69])"
   ]
  },
  {
   "cell_type": "code",
   "execution_count": 15,
   "id": "ccbb3c63",
   "metadata": {},
   "outputs": [
    {
     "data": {
      "image/png": "[encoded data removed]",
      "text/plain": [
       "<Figure size 640x480 with 1 Axes>"
      ]
     },
     "metadata": {},
     "output_type": "display_data"
    }
   ],
   "source": [
    "plt.hist(delta_ts, bins=100, label=\"All Lety T3 requests\")\n",
    "plt.xlabel(r\"$\\Delta$ t / s\")\n",
    "plt.ylabel(\"Counts\")\n",
    "plt.title(r\"$\\Delta$ t between successive Lety T3 requests\")\n",
    "plt.show()"
   ]
  },
  {
   "cell_type": "code",
   "execution_count": 16,
   "id": "cd01ae7c",
   "metadata": {},
   "outputs": [
    {
     "data": {
      "text/plain": [
       "-3.0"
      ]
     },
     "execution_count": 16,
     "metadata": {},
     "output_type": "execute_result"
    }
   ],
   "source": [
    "min(delta_ts)"
   ]
  },
  {
   "cell_type": "code",
   "execution_count": 17,
   "id": "2e6cd2ff",
   "metadata": {},
   "outputs": [
    {
     "data": {
      "image/png": "[encoded data removed]",
      "text/plain": [
       "<Figure size 640x480 with 1 Axes>"
      ]
     },
     "metadata": {},
     "output_type": "display_data"
    }
   ],
   "source": [
    "plt.hist(delta_ts_cutMulti, bins=100, label=\"Lety T3 requests (cut multi-triggers and large events)\")\n",
    "plt.xlabel(r\"$\\Delta$ t / s\")\n",
    "plt.ylabel(\"Counts\")\n",
    "plt.title(r\"$\\Delta$ t between successive Lety T3 requests\")\n",
    "plt.show()"
   ]
  },
  {
   "cell_type": "code",
   "execution_count": 18,
   "id": "f60e2f1c",
   "metadata": {},
   "outputs": [],
   "source": [
    "# Don't know why there are negative time differences..."
   ]
  },
  {
   "cell_type": "code",
   "execution_count": null,
   "id": "5e17e870",
   "metadata": {},
   "outputs": [],
   "source": []
  }
 ],
 "metadata": {
  "kernelspec": {
   "display_name": "Python 3",
   "language": "python",
   "name": "python3"
  },
  "language_info": {
   "codemirror_mode": {
    "name": "ipython",
    "version": 3
   },
   "file_extension": ".py",
   "mimetype": "text/x-python",
   "name": "python",
   "nbconvert_exporter": "python",
   "pygments_lexer": "ipython3",
   "version": "3.10.12"
  }
 },
 "nbformat": 4,
 "nbformat_minor": 5
}
